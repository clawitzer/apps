{
 "cells": [
  {
   "cell_type": "markdown",
   "metadata": {},
   "source": [
    "## Notes"
   ]
  },
  {
   "cell_type": "code",
   "execution_count": null,
   "metadata": {},
   "outputs": [],
   "source": [
    "# Sectioning lines\n",
    "# -------------------------------------------------"
   ]
  },
  {
   "cell_type": "code",
   "execution_count": null,
   "metadata": {},
   "outputs": [],
   "source": [
    "# vvvvvvvvvvvvvvvvvvvvvvvvvvvvvvvvvvvvvvvvvvvvvvvvvvvvvvvvvvvvvvvvvvvvvvvvvvvvvvvvvvvvvvvvvvv\n",
    "# These sections are encouraged to be altered! (Of course, you can change all of the code!)\n",
    "# ^^^^^^^^^^^^^^^^^^^^^^^^^^^^^^^^^^^^^^^^^^^^^^^^^^^^^^^^^^^^^^^^^^^^^^^^^^^^^^^^^^^^^^^^^^^"
   ]
  },
  {
   "cell_type": "markdown",
   "metadata": {},
   "source": [
    "You can save animations by running them in the HTML5 form, and downloading them manually (hover over the video player and it should show a 'download' option). I've saved the individual frames to seperate files, but haven't found a way to reanimate them."
   ]
  },
  {
   "cell_type": "markdown",
   "metadata": {},
   "source": [
    "exno and figno are the excercise number and figure number, each of which can be viewed in the original version of this file (chile2010b.ipynb)"
   ]
  },
  {
   "cell_type": "markdown",
   "metadata": {},
   "source": [
    "All reference to Manning, including use of the phrase \"Manning's value\", \"Manning's\", or \"Mann\", refers exclusively to Manning's coefficient of friction (or roughness), also known as Manning's n. "
   ]
  },
  {
   "cell_type": "markdown",
   "metadata": {},
   "source": [
    "If you run the notebook, and don't hear your computer fan working, check there is not a 'Warning' box thrown by the program. These have been put in place to avoid overwriting data, and running uneccessary simulations. On Jupyter Lab, the screen should automatically jump to the 'Warning' box, which needs you to press the *Enter* key to continue the program. This is not the same as an error box. With a 'Warning' box, the **kernel** will be `Busy`; but with an error box, the **kernel** will be `Idle`."
   ]
  },
  {
   "cell_type": "markdown",
   "metadata": {},
   "source": [
    "# Notebook setup"
   ]
  },
  {
   "cell_type": "code",
   "execution_count": null,
   "metadata": {},
   "outputs": [],
   "source": [
    "%pylab inline"
   ]
  },
  {
   "cell_type": "code",
   "execution_count": null,
   "metadata": {},
   "outputs": [],
   "source": [
    "from clawpack.clawutil import nbtools\n",
    "from clawpack.visclaw import animation_tools\n",
    "from IPython.display import HTML, Image as ipyImage\n",
    "from PIL import Image\n",
    "from os import environ, path, mkdir, remove\n",
    "from importlib import import_module\n",
    "from shutil import rmtree, copyfile\n",
    "from glob import glob\n",
    "from distutils.dir_util import copy_tree\n",
    "import decimal"
   ]
  },
  {
   "cell_type": "code",
   "execution_count": null,
   "metadata": {},
   "outputs": [],
   "source": [
    "print(\"CLAW =\", environ[\"CLAW\"])\n",
    "print(\"FC =\", environ[\"FC\"])"
   ]
  },
  {
   "cell_type": "code",
   "execution_count": null,
   "metadata": {},
   "outputs": [],
   "source": [
    "nbtools.make_exe(new=True, verbose=True)"
   ]
  },
  {
   "cell_type": "code",
   "execution_count": null,
   "metadata": {},
   "outputs": [],
   "source": [
    "run maketopo.py  # download the topo file and create the dtopo file"
   ]
  },
  {
   "cell_type": "markdown",
   "metadata": {},
   "source": [
    "Make save paths if not found."
   ]
  },
  {
   "cell_type": "code",
   "execution_count": null,
   "metadata": {},
   "outputs": [],
   "source": [
    "save_paths = \"_saved\", \"_saved/_plots\", \"_saved/_anim\"\n",
    "for targ in save_paths:\n",
    "    if path.isdir(targ) == False:\n",
    "        mkdir(targ)"
   ]
  },
  {
   "cell_type": "markdown",
   "metadata": {},
   "source": [
    "Clear old data files and diretories"
   ]
  },
  {
   "cell_type": "code",
   "execution_count": null,
   "metadata": {},
   "outputs": [],
   "source": [
    "for k in range(1, 11):\n",
    "    try:\n",
    "        remove(\"setrun_{}.py\".format(k))\n",
    "        remove(\"plot_output_{}.txt\".format(k))\n",
    "        remove(\"run_output_{}.txt\".format(k))\n",
    "        rmtree(\"_plots_{}\".format(k))\n",
    "        rmtree(\"_output_{}\".format(k))\n",
    "    except Exception:\n",
    "        pass"
   ]
  },
  {
   "cell_type": "markdown",
   "metadata": {},
   "source": [
    "# Functions"
   ]
  },
  {
   "cell_type": "code",
   "execution_count": null,
   "metadata": {},
   "outputs": [],
   "source": [
    "def old_clear():\n",
    "    old_data = \"setrun_{}.py\", \"plot_output_{}.txt\", \"run_output_{}.txt\"\n",
    "    old_paths = \"_plots_{}\", \"_output_{}\"\n",
    "    for k in range(1, 11):\n",
    "        for targ in old_data:\n",
    "            if path.isfile(targ.format(k)) == True:\n",
    "                remove(targ.format(k))\n",
    "        for targ in old_paths:\n",
    "            if path.isdir(targ.format(k)) == True:\n",
    "                rmtree(targ.format(k))"
   ]
  },
  {
   "cell_type": "markdown",
   "metadata": {},
   "source": [
    "## Initiate data compilation"
   ]
  },
  {
   "cell_type": "markdown",
   "metadata": {},
   "source": [
    "Initiate changes to be written to the .data files"
   ]
  },
  {
   "cell_type": "code",
   "execution_count": null,
   "metadata": {},
   "outputs": [],
   "source": [
    "def init_comp(\n",
    "    exno,\n",
    "    anim123=False,\n",
    "    plots=False,\n",
    "    gauge_map=False,\n",
    "    gauge_type=\"stationary\",\n",
    "    out=False,\n",
    "):\n",
    "\n",
    "    comp_manns = range(1, amount_manns + 1) if plots == True else anim_manns\n",
    "    # -------------------------------------------------\n",
    "    old_clear()\n",
    "    print(\"Loading...\")\n",
    "    # -------------------------------------------------\n",
    "    for element in comp_manns:\n",
    "        copyfile(\"setrun.py\", \"setrun_{}.py\".format(element))\n",
    "        mod = importlib.import_module(\"setrun_{}\".format(element))\n",
    "        rundata = mod.setrun()\n",
    "        # Changes to the original setrun.py\n",
    "        # -------------------------------------------------\n",
    "        # Change Manning's\n",
    "        rundata.geo_data.manning_coefficient = manns[element - 1]\n",
    "        # Change output times:\n",
    "        rundata.clawdata.output_style = (\n",
    "            exno  # This is the difference from ex1 to ex2 in the animation\n",
    "        )\n",
    "        rundata.clawdata.output_times = linspace(3.5, 8, 19) * 3600.0\n",
    "        # Change gauge location:\n",
    "        from clawpack.amrclaw.data import GaugeData\n",
    "\n",
    "        rundata.replace_data(\"gaugedata\", GaugeData())  # clear old gauge data\n",
    "        rundata.gaugedata.gauges = []  # empty list\n",
    "        rundata.gaugedata.gtype = gauge_type\n",
    "        # -------------------------------------------------\n",
    "        gplot_amount = 2 if anim123 == True else len(dict_gauge)\n",
    "        for j in range(gplot_amount):\n",
    "            rundata.gaugedata.gauges.append(\n",
    "                [det[j][0], det[j][1], det[j][2], det[j][3], det[j][4]]\n",
    "            )  # not currently close to epicentre gauge\n",
    "        if gauge_map == True:\n",
    "            if element != comp_manns[0]:\n",
    "                return\n",
    "            rundata.amrdata.amr_levels_max = 3\n",
    "            rundata.amrdata.refinement_ratios_x = [2, 2]\n",
    "            rundata.amrdata.refinement_ratios_y = [2, 2]\n",
    "            rundata.amrdata.refinement_ratios_t = [2, 2]\n",
    "            rundata.regiondata.regions = []  # empty list of regions\n",
    "            rundata.regiondata.regions.append([3, 3, 0.0, 1e9, -120, -60, -60, 0])\n",
    "            # now comp_manns has length of 1, so user will see '100% complete'\n",
    "            comp_manns = [1]\n",
    "        # -------------------------------------------------\n",
    "        compiler(rundata, element, comp_manns, out)"
   ]
  },
  {
   "cell_type": "markdown",
   "metadata": {},
   "source": [
    "## Compile data"
   ]
  },
  {
   "cell_type": "markdown",
   "metadata": {},
   "source": [
    "Write (any changes made by the user to) .data files, and then run the code from these files to create fortran data and images to be used in animation. "
   ]
  },
  {
   "cell_type": "code",
   "execution_count": null,
   "metadata": {},
   "outputs": [],
   "source": [
    "def compiler(rundata, element, comp_manns, out=False):\n",
    "    # create .data files from parameters in setrun.py\n",
    "    rundata.write()\n",
    "    # Run the code from the .data files\n",
    "    nbtools.make_output_and_plots(label=\"_{}\".format(element), verbose=out)\n",
    "    print(\"{:.0%} complete\".format((comp_manns.index(element) + 1) / (len(comp_manns))))"
   ]
  },
  {
   "cell_type": "markdown",
   "metadata": {},
   "source": [
    "## Show animation"
   ]
  },
  {
   "cell_type": "code",
   "execution_count": null,
   "metadata": {},
   "outputs": [],
   "source": [
    "def show_anim(anim, form=5):\n",
    "    html_version = (\n",
    "        HTML(anim.to_jshtml()) if form == \"js\" else HTML(anim.to_html5_video())\n",
    "    )\n",
    "    return html_version"
   ]
  },
  {
   "cell_type": "markdown",
   "metadata": {},
   "source": [
    "## Figures to animate"
   ]
  },
  {
   "cell_type": "markdown",
   "metadata": {},
   "source": [
    "Concatenate frames to be used in animation, then creating the user-facing animation. "
   ]
  },
  {
   "cell_type": "code",
   "execution_count": null,
   "metadata": {},
   "outputs": [],
   "source": [
    "def stitch_anim(anim_area, form=5):\n",
    "    if anim_area == \"Full map\":\n",
    "        frames, exno, figno, extra = 5, 1, 0, \"\"\n",
    "\n",
    "    elif anim_area == \"North west coast\":\n",
    "        frames, exno, figno, extra = 19, 2, 1, 0\n",
    "\n",
    "    else:\n",
    "        print(\"Error : Check the animation area was entered correctly\")\n",
    "    # -------------------------------------------------\n",
    "    if path.isdir(\"_plots\") == False:\n",
    "        mkdir(\"_plots\")\n",
    "\n",
    "    old_frames = glob(\"_plots/*\")\n",
    "    for f in old_frames:\n",
    "        remove(f)\n",
    "    # -------------------------------------------------\n",
    "    for a in range(exno - 1, frames + 1):\n",
    "        im = Image.open(\n",
    "            \"_plots_{}/frame{:04d}fig{}.png\".format(anim_manns[0], a, figno)\n",
    "        )\n",
    "        im_alt = Image.open(\n",
    "            \"_plots_{}/frame{:04d}fig{}.png\".format(anim_manns[1], a, figno)\n",
    "        )\n",
    "        dst = Image.new(\"RGB\", (im.width + im_alt.width, im.height))\n",
    "        dst.paste(im, (0, 0))\n",
    "        dst.paste(im_alt, (im.width, 0))\n",
    "        dst.save(\"_plots/frame{:04d}fig{}.png\".format(a, figno))\n",
    "    # -------------------------------------------------\n",
    "    anim = animation_tools.animate_from_plotdir(\"_plots\", figno)\n",
    "    # -------------------------------------------------\n",
    "    anim_path = anim_dir + \"/{}\".format(anim_area.replace(\" \", \"_\"))\n",
    "    if path.isdir(anim_path) == False:\n",
    "        mkdir(anim_path)\n",
    "        copy_tree(\"_plots\", anim_path)\n",
    "    print(\"Figures for animation saved to:\", anim_path)\n",
    "\n",
    "    print(\n",
    "        \"\\nMannings n = {} on left animation, and n = {} on right \"\n",
    "        \"animation\".format(choose_manns[anim_manns[0]], choose_manns[anim_manns[1]])\n",
    "    )\n",
    "\n",
    "    return show_anim(anim, form)"
   ]
  },
  {
   "cell_type": "markdown",
   "metadata": {},
   "source": [
    "## Import gauge data"
   ]
  },
  {
   "cell_type": "code",
   "execution_count": null,
   "metadata": {},
   "outputs": [],
   "source": [
    "def gauge_data():\n",
    "    from setplot import setplot\n",
    "\n",
    "    plotdata = setplot()\n",
    "    # reset variables\n",
    "\n",
    "    t = [None] * amount_manns\n",
    "    u = [None] * amount_manns\n",
    "    v = [None] * amount_manns\n",
    "    eta = [None] * amount_manns\n",
    "    h = [None] * amount_manns\n",
    "    u_d = [None] * amount_manns\n",
    "    v_d = [None] * amount_manns\n",
    "    hu = [None] * amount_manns\n",
    "    hv = [None] * amount_manns\n",
    "    dis_lat = [None] * amount_manns\n",
    "    dis_lon = [None] * amount_manns\n",
    "    # -------------------------------------------------\n",
    "    for k in range(amount_manns):\n",
    "        plotdata.outdir = \"_output_{}\".format(k + 1)\n",
    "        # get gauge data\n",
    "        g = plotdata.getgauge(gauge_num)\n",
    "        t[k] = g.t / 3600.0  # convert to hours\n",
    "        u[k] = g.q[1, :]  # u = east-west wave velocity\n",
    "        v[k] = g.q[2, :]  # v = north-south wave velocity\n",
    "        eta[k] = g.q[3, :]  # eta = h + B (depth plus bathymetry)\n",
    "        h[k] = g.q[0, :]  # water depth\n",
    "        u_d[k] = g.q[1, :] / h[k]  # u_d = east-west depth-averaged velocity\n",
    "        v_d[k] = g.q[2, :] / h[k]  # v_d = north-south depth-averaged velocity\n",
    "        hu[k] = g.q[1, :] * h[k]  # u = east-west wave discharge\n",
    "        hv[k] = g.q[2, :] * h[k]  # v = north-south wave discharge\n",
    "\n",
    "        if plot_unit == \"km/h\" and gauge_type == \"stationary\":\n",
    "            u[k], v[k] = (u[k] * 3.6), (v[k] * 3.6)\n",
    "            hu[k], hv[k] = (hu[k] * 3.6), (hv[k] * 3.6)\n",
    "\n",
    "    if gauge_type == \"lagrangian\":\n",
    "\n",
    "        for j in range(amount_manns):\n",
    "            dis_lat[j] = empty([len(u[j])])\n",
    "            dis_lon[j] = empty([len(v[j])])\n",
    "            for i in range(len(u[j])):\n",
    "                dis_lat[j][i] = (\n",
    "                    det[list(dict_gauge).index(gauge_name)][1] - u[j][i]\n",
    "                ) * 110045  # number is the approximate length in metres of a degree of latitude\n",
    "            for h in range(len(v[j])):\n",
    "                dis_lon[j][h] = (\n",
    "                    det[list(dict_gauge).index(gauge_name)][2] - v[j][h]\n",
    "                ) * 87870.18  # --\"\"-- longitude, both found on https://www.usgs.gov/faqs/how-much-distance-does-a-degree-minute-and-second-cover-your-maps\n",
    "\n",
    "    return t, u, v, eta, u_d, v_d, hu, hv, dis_lat, dis_lon"
   ]
  },
  {
   "cell_type": "markdown",
   "metadata": {},
   "source": [
    "## Parameterise graph"
   ]
  },
  {
   "cell_type": "code",
   "execution_count": null,
   "metadata": {},
   "outputs": [],
   "source": [
    "def plotter_details(measure):\n",
    "    if measure == \"height\":\n",
    "        var = eta\n",
    "        yunit = \"m\"\n",
    "        heading = \"Sea surface elevation\"\n",
    "\n",
    "    elif measure == \"DAvelocity\":\n",
    "        var = [u_d, v_d]\n",
    "        yunit = \"m/s\" if plot_unit == \"m/s\" else \"km/h\"\n",
    "        heading = \"Depth-averaged velocity\"\n",
    "\n",
    "    elif measure == \"Wvelocity\":\n",
    "        var = [u, v]\n",
    "        yunit = \"m\\u00B2/s\" if plot_unit == \"m/s\" else \"km\\u00B2/h\"\n",
    "        heading = \"Wave velocity\"\n",
    "\n",
    "    elif measure == \"discharge\":\n",
    "        var = [hu, hv]\n",
    "        yunit = \"m\\u00B3/s\" if plot_unit == \"m/s\" else \"km\\u00B3/h\"\n",
    "        heading = \"Discharge\"\n",
    "\n",
    "    elif measure == \"displacement\":\n",
    "        var = [dis_lat, dis_lon]\n",
    "        yunit = \"m\"\n",
    "        heading = \"Displacement\"\n",
    "\n",
    "    direct = [\"East-west\", \"North-south\"]\n",
    "\n",
    "    return var, direct, yunit, heading"
   ]
  },
  {
   "cell_type": "markdown",
   "metadata": {},
   "source": [
    "## Plot graph"
   ]
  },
  {
   "cell_type": "code",
   "execution_count": null,
   "metadata": {},
   "outputs": [],
   "source": [
    "def plotter(measure):\n",
    "    if gauge_type == \"lagrangian\" and measure != \"displacement\":\n",
    "        print(\n",
    "            'skipping plot, as gauge type must be \"stationary\" to plot {}'.format(\n",
    "                measure\n",
    "            )\n",
    "        )\n",
    "        skip = True\n",
    "    elif gauge_type == \"stationary\" and measure == \"displacement\":\n",
    "        print(\n",
    "            'skipping plot, as gauge type must be \"lagrangian\" to plot {}'.format(\n",
    "                measure\n",
    "            )\n",
    "        )\n",
    "        skip = True\n",
    "    else:\n",
    "        skip = False\n",
    "    # -------------------------------------------------\n",
    "    if skip == False:\n",
    "        var, direct, yunit, heading = plotter_details(measure)\n",
    "\n",
    "        if measure == \"height\":\n",
    "            grid()\n",
    "            for k in range(amount_manns):\n",
    "                plot(\n",
    "                    t[k],\n",
    "                    var[k],\n",
    "                    linestyle=line[k][0],\n",
    "                    color=line[k][1],\n",
    "                    label=\"{}\".format(manns[k]),\n",
    "                )\n",
    "            if plot_legend == True:\n",
    "                legend(title=\"Manning's n values\")\n",
    "            title(\"{} at buoy {}\".format(heading, gauge_num), fontsize=\"x-large\")\n",
    "            xlabel(\"Time since earthquake (h)\")\n",
    "            ylabel(\"{} ({})\".format(heading, yunit))\n",
    "\n",
    "        else:\n",
    "            if gauge_type == \"lagrangian\":\n",
    "                suptitle(\"{} of buoy {}\".format(heading, gauge_num), fontsize=\"x-large\")\n",
    "            else:\n",
    "                suptitle(\"{} at buoy {}\".format(heading, gauge_num), fontsize=\"x-large\")\n",
    "            for l in range(2):\n",
    "                subplot(1, 2, (l + 1))\n",
    "                grid()\n",
    "                for k in range(amount_manns):\n",
    "                    plot(\n",
    "                        t[k],\n",
    "                        var[l][k],\n",
    "                        linestyle=line[k][0],\n",
    "                        color=line[k][1],\n",
    "                        label=\"{}\".format(manns[k]),\n",
    "                    )\n",
    "                if plot_legend == True:\n",
    "                    legend(title=\"Manning's n values\")\n",
    "                title(\"{} direction\".format(direct[l]))\n",
    "                xlabel(\"Time since earthquake (h)\")\n",
    "                ylabel(\"{} ({})\".format(heading, yunit))\n",
    "                ticklabel_format(\n",
    "                    style=\"sci\", axis=\"y\", scilimits=(-4, 5), useMathText=True\n",
    "                )\n",
    "\n",
    "            if gauge_type == \"lagrangian\":\n",
    "                ticklabel_format(useOffset=False, style=\"plain\")\n",
    "\n",
    "        tight_layout()\n",
    "        gcf().set_size_inches(14, 6)\n",
    "        savefig(\n",
    "            \"_saved/_plots/manns_{}/{}-gauge_{}.png\".format(\n",
    "                manns, gauge_name.replace(\" \", \"_\"), measure\n",
    "            )\n",
    "        )\n",
    "        show()\n",
    "        print(\"\\n\")"
   ]
  },
  {
   "cell_type": "markdown",
   "metadata": {},
   "source": [
    "## Plot comparison graph"
   ]
  },
  {
   "cell_type": "markdown",
   "metadata": {},
   "source": [
    "Plots the graph which compares the simulated data with the real data of **gauge 32412**"
   ]
  },
  {
   "cell_type": "code",
   "execution_count": null,
   "metadata": {},
   "outputs": [],
   "source": [
    "def plotter_compare():\n",
    "    if gauge_type == \"lagrangian\":\n",
    "        print('Comparison can only be performed on \"stationary\" guage type')\n",
    "    else:\n",
    "        ax = gca()\n",
    "\n",
    "        xmin, xmax, ymin, ymax = (3, 7, -0.20, 0.30)\n",
    "\n",
    "        for k in range(amount_manns):\n",
    "            if plot_legend == True:\n",
    "                ax.plot(\n",
    "                    t[k],\n",
    "                    eta[k],\n",
    "                    linestyle=line[k][0],\n",
    "                    color=line[k][1],\n",
    "                    label=\"{}\".format(manns[k]),\n",
    "                )\n",
    "            else:\n",
    "                ax.plot(t[k], eta[k], linestyle=line[k][0], color=line[k][1])\n",
    "        ax.plot(0, 0, color=\"k\", label=\"Real life data\")\n",
    "        ax.legend(title=\"Manning's n values\") if plot_legend == True else ax.legend()\n",
    "        ax.set_xlim(xmin, xmax)\n",
    "        ax.set_ylim(ymin, ymax)\n",
    "        ax.set_xlabel(\"Time since earthquake (h)\")\n",
    "        ax.set_ylabel(\"Sea surface elevation (m)\")\n",
    "        ax.set_title(\"Sea surface elevation at buoy 32412\", fontsize=\"x-large\")\n",
    "\n",
    "        ax.set_zorder(2)\n",
    "        ax.set_facecolor(\"none\")\n",
    "\n",
    "        ax_tw_x = ax.twinx()\n",
    "        ax_tw_x.axis(\"off\")\n",
    "        ax2 = ax_tw_x.twiny()\n",
    "\n",
    "        im = imread(\"gauge32412-actual-detide.png\")\n",
    "        ax2.imshow(im, extent=[xmin, xmax, ymin, ymax], aspect=\"auto\")\n",
    "        ax2.axis(\"off\")\n",
    "\n",
    "        gcf().set_size_inches(14, 6)\n",
    "        savefig(\n",
    "            \"_saved/_plots/manns_{}/{}-compare_gauge_height.png\".format(\n",
    "                manns, gauge_name.replace(\" \", \"_\")\n",
    "            )\n",
    "        )\n",
    "        show()"
   ]
  },
  {
   "cell_type": "markdown",
   "metadata": {},
   "source": [
    "# Custom parameters"
   ]
  },
  {
   "cell_type": "markdown",
   "metadata": {},
   "source": [
    "## Manning's values"
   ]
  },
  {
   "cell_type": "markdown",
   "metadata": {},
   "source": [
    "If `True`, Manning values will be a family, if `False`, they will be custom"
   ]
  },
  {
   "cell_type": "code",
   "execution_count": null,
   "metadata": {},
   "outputs": [],
   "source": [
    "# vvvvvvvvvvvvvvvvvvvvvvvvvvvvvvvvvvvvvvvv\n",
    "family_mann = False\n",
    "# ^^^^^^^^^^^^^^^^^^^^^^^^^^^^^^^^^^^^^^^^"
   ]
  },
  {
   "cell_type": "markdown",
   "metadata": {},
   "source": [
    "### Family of Manning's values"
   ]
  },
  {
   "cell_type": "markdown",
   "metadata": {},
   "source": [
    "Assign Manning's values as a family, spaced out and centered around a middle value. \n",
    "\n",
    "Please let the amount of Manning's values be no less than `2`.\n",
    "\n",
    "Note : Each value may take 1-2 minutes to plot dependent on your machine."
   ]
  },
  {
   "cell_type": "code",
   "execution_count": null,
   "metadata": {},
   "outputs": [],
   "source": [
    "# vvvvvvvvvvvvvvvvvvvvvvvvvvvvvvvvvvvvvvvv\n",
    "amount_manns = 5  # Amount of Manning's values to create\n",
    "mid_mann = 0.8  # Middle Manning's value\n",
    "space_manns = 0.2  # Space between each Manning's value. I.e, to plot 3 Manning's values, with middle value 0.05, and space value 0.02/\n",
    "# The total created Manning's values would be [0.03, 0.05, 0.07]\n",
    "# ^^^^^^^^^^^^^^^^^^^^^^^^^^^^^^^^^^^^^^^^"
   ]
  },
  {
   "cell_type": "markdown",
   "metadata": {},
   "source": [
    "### Custom Manning's values"
   ]
  },
  {
   "cell_type": "markdown",
   "metadata": {},
   "source": [
    "Dictionary of custom mannings values.\n",
    "\n",
    "To keep a value in the dictionary, but exclude it from simulation: place a `#` in front of the line it is on (This transforms the line to a comment, so the program won't 'read' it).\n",
    "\n",
    "Format : 'Description/name' : Manning's n value"
   ]
  },
  {
   "cell_type": "code",
   "execution_count": null,
   "metadata": {},
   "outputs": [],
   "source": [
    "# vvvvvvvvvvvvvvvvvvvvvvvvvvvvvvvvvvvvvvvvvvvvvvvvvvvvvvvvvvvvvvvvvvvvvvvvvvvvvvvvvvvvvvv\n",
    "dict_mann = {\n",
    "    \"test\": 5,\n",
    "    \"geoclaw\": 0.025,\n",
    "    #     \"kotani_coast\": 0.025,\n",
    "    #     \"kotani_farmland\": 0.02,\n",
    "    #     \"kotani_forest\": 0.03,\n",
    "    #     \"kotani_low_urban\": 0.04,\n",
    "    #     \"kotani_med_urban\": 0.06,\n",
    "    #     \"kotani_high_urban\": 0.08,\n",
    "    #     \"yanigasawa_mangrove\": 0.04,\n",
    "    #     \"yanigasawa_vegitation\": 0.05,\n",
    "    #     'yanigasawa_buildings':0.06,\n",
    "    #     \"koshimura_low_urban\": 0.053,\n",
    "    #     \"koshimura_med_urban\": 0.094,\n",
    "    #     \"koshimura_high_urban\": 0.172,\n",
    "}\n",
    "# ^^^^^^^^^^^^^^^^^^^^^^^^^^^^^^^^^^^^^^^^^^^^^^^^^^^^^^^^^^^^^^^^^^^^^^^^^^^^^^^^^^^^^^^^"
   ]
  },
  {
   "cell_type": "markdown",
   "metadata": {},
   "source": [
    "## Gauges"
   ]
  },
  {
   "cell_type": "markdown",
   "metadata": {},
   "source": [
    "Dictionary of custom gauges.\n",
    "\n",
    "To keep a value in the dictionary, but exclude it from simulation: place a `#` in front of the line it is on (This transforms the line to a comment, so the program won't 'read' it).\n",
    "\n",
    "Entries are of the following form (try to keep location description under 35 characters, and keep *latitude* and *longitude* from 1-3 decimal places to avoid float miscalculations when plotting):\n",
    "\n",
    "'location description':[number(0-999) , latitide, longitude, time start(default to 0.), time steps(default to 1.e10)]\n",
    "\n",
    "hint: area wave resides in first hour : [-85,-72,-38,-25]\n",
    "\n",
    "The land border is not the same as that on google maps, so it may be a case of trial and error to show your desired gauge if you are trying to plot very near the coast. For example: The Constitución coast gauge is 6km west of the coast coordinates given on google maps. I have found that plotting 5km or closer often ends in failure to plot velocity, as the height at this gauge is given as 0 (i.e the area being plotted on is land)."
   ]
  },
  {
   "cell_type": "code",
   "execution_count": null,
   "metadata": {},
   "outputs": [],
   "source": [
    "# vvvvvvvvvvvvvvvvvvvvvvvvvvvvvvvvvvvvvvvvvvvvvvvvvvvvvvvvvvvvvvvvvvvvvvvvvvvvvvvvvvvvvvv\n",
    "dict_gauge = {\n",
    "    \"buoy 123\": [123, -77.3, -12.3, 3.5 * 3600, 1.0e10],\n",
    "    \"buoy 32412\": [32412, -86.392, -17.975, 3 * 3600, 1.0e10],\n",
    "    #     \"a far point\": [2, -119.999, -0.001, 0.0, 1.0e10],\n",
    "    #     \"Alejandro Selkirk Island west coast\": [3, -80.757, -33.768, 0.0, 1.0e10],\n",
    "    #     \"Robinson Crusoe Island west coast\": [4, -78.771, -33.669, 0.0, 1.0e10],\n",
    "    #     \"the epicentre\": [1, -72.733, -34.909, 0.0, 1.0e10],\n",
    "    #     \"Constitución coast (6km west)\": [6, -72.500, -35.331, 0.0, 1.0e10],\n",
    "}\n",
    "# ^^^^^^^^^^^^^^^^^^^^^^^^^^^^^^^^^^^^^^^^^^^^^^^^^^^^^^^^^^^^^^^^^^^^^^^^^^^^^^^^^^^^^^^^"
   ]
  },
  {
   "cell_type": "markdown",
   "metadata": {},
   "source": [
    "gauge_types is a list of gauge types, which can either be `[\"stationary\"]`, or `[\"lagrangian\"]`, or both `[\"stationary\", \"lagrangian\"]`. Note: stationary gauges only plot velocity, height and discharge; lagrangian gauges only plot displacement.\n",
    "\n",
    "Plotting all gauge types takes twice as long as plotting either `\"lagrangian\"` or `\"stationary\"` alone. For 10 manning's coefficients, expect to wait around 20-25 minutes to complete."
   ]
  },
  {
   "cell_type": "code",
   "execution_count": null,
   "metadata": {},
   "outputs": [],
   "source": [
    "# vvvvvvvvvvvvvvvvvvvvvvvvvvvvvvvvvvvv\n",
    "gauge_types = [\"stationary\", \"lagrangian\"]\n",
    "# ^^^^^^^^^^^^^^^^^^^^^^^^^^^^^^^^^^^^"
   ]
  },
  {
   "cell_type": "markdown",
   "metadata": {},
   "source": [
    "## Plot details"
   ]
  },
  {
   "cell_type": "markdown",
   "metadata": {},
   "source": [
    "Display legend of curves on your plot. Either write a conditional function, or replace with a simple `plot_legend = True`, or `plot_legend = False`"
   ]
  },
  {
   "cell_type": "code",
   "execution_count": null,
   "metadata": {},
   "outputs": [],
   "source": [
    "# vvvvvvvvvvvvvvvv\n",
    "plot_legend = True\n",
    "# ^^^^^^^^^^^^^^^^"
   ]
  },
  {
   "cell_type": "markdown",
   "metadata": {},
   "source": [
    "Choose what units the `\"Wvelocity\"` and `\"discharge\"` plots will be displayed in. Chooese from either `\"m/s\"` or `\"km/h\"`"
   ]
  },
  {
   "cell_type": "code",
   "execution_count": null,
   "metadata": {},
   "outputs": [],
   "source": [
    "# vvvvvvvvvvvvvvvvvvvvv\n",
    "plot_unit = \"km/h\"\n",
    "# ^^^^^^^^^^^^^^^^^^^^^"
   ]
  },
  {
   "cell_type": "markdown",
   "metadata": {},
   "source": [
    "Choose line colours (define in hex form)"
   ]
  },
  {
   "cell_type": "code",
   "execution_count": null,
   "metadata": {},
   "outputs": [],
   "source": [
    "standard_colour = [\n",
    "    \"#8c510a\",\n",
    "    \"#d8b365\",\n",
    "    \"#5ab4ac\",\n",
    "    \"#01665e\",\n",
    "]  # created at https://colorbrewer2.org/#type=diverging&scheme=BrBG&n=6\n",
    "\n",
    "# Optionally, see what this plot would look as a person with a color vision deficiency:\n",
    "Protanopia = [\"#72711b\", \"#c7c777\", \"#8081ad\", \"#2c2d5f\"]\n",
    "Deuteranopia = [\"#757a1f\", \"#cacc7c\", \"#7b75ae\", \"#261f60\"]\n",
    "Tritanopia = [\"#89282b\", \"#d6868a\", \"#5eafaf\", \"#066161\"]\n",
    "Achromatopsia = [\"#5a5a5a\", \"#b5b5b5\", \"#989898\", \"#464646\"]\n",
    "Protanomaly = [\"#816412\", \"#d1bf6e\", \"#6a96ad\", \"#13445f\"]\n",
    "Deuteranomaly = [\"#806014\", \"#d0bc70\", \"#6c9cad\", \"#154b5f\"]\n",
    "Tritanomaly = [\"#8a3e16\", \"#d69e73\", \"#5cb1ad\", \"#04635f\"]\n",
    "Achromatomaly = [\"#715635\", \"#c5b490\", \"#7ba4a1\", \"#275551\"]\n",
    "# created at https://coolors.co/8c510a-d8b365-5ab4ac-01665e\n",
    "\n",
    "# vvvvvvvvvvvvvvvvvvvvvvvvvvvvvvv\n",
    "colour_option = standard_colour\n",
    "# ^^^^^^^^^^^^^^^^^^^^^^^^^^^^^^"
   ]
  },
  {
   "cell_type": "markdown",
   "metadata": {},
   "source": [
    "# Initialise parameter choice"
   ]
  },
  {
   "cell_type": "markdown",
   "metadata": {},
   "source": [
    "Note : All manning values are shown in their absolute value (the program does not display negative values any differently from positive ones)"
   ]
  },
  {
   "cell_type": "code",
   "execution_count": null,
   "metadata": {},
   "outputs": [],
   "source": [
    "if family_mann == False:\n",
    "    leave = 0\n",
    "    for key in dict_mann:\n",
    "        for keys in dict_mann:\n",
    "            if (dict_mann[key] == dict_mann[keys]) and (key != keys):\n",
    "                input(\n",
    "                    \"'{}' and '{}' have the same Manning's n value: {}.\\n\"\n",
    "                    \"Either:\\n\"\n",
    "                    \"1. Comment out the duplicate; interrupt, and restart the kernel.\"\n",
    "                    \" Then rerun the notebook.\\n\"\n",
    "                    \"2. Press the 'Enter' key to ignore all duplicates\"\n",
    "                    \" (Warning: the run-time of the program will be longer than neccessary).\\n\".format(\n",
    "                        key, keys, dict_mann[key]\n",
    "                    )\n",
    "                )\n",
    "                leave = 1\n",
    "            if leave == 1:\n",
    "                break\n",
    "        if leave == 1:\n",
    "            break"
   ]
  },
  {
   "cell_type": "code",
   "execution_count": null,
   "metadata": {},
   "outputs": [],
   "source": [
    "choose_manns = {}\n",
    "\n",
    "if family_mann == True:\n",
    "    manns = [None] * amount_manns\n",
    "\n",
    "elif family_mann == False:\n",
    "    manns = [None] * len(dict_mann)\n",
    "    for key in dict_mann:\n",
    "        k = list(dict_mann).index(key)\n",
    "        manns[k] = dict_mann[key]\n",
    "    manns.sort()\n",
    "\n",
    "amount_manns = len(manns)\n",
    "\n",
    "for k in range(amount_manns):\n",
    "    if family_mann == True:\n",
    "\n",
    "        deci_point = [decimal.Decimal(str(mid_mann)), decimal.Decimal(str(space_manns))]\n",
    "        roundto = -max(\n",
    "            [deci_point[0].as_tuple().exponent, deci_point[1].as_tuple().exponent]\n",
    "        )\n",
    "        if amount_manns % 2 == 0:\n",
    "            manns[k] = abs(mid_mann + (k + 1 - (amount_manns) / 2) * space_manns)\n",
    "        else:\n",
    "            manns[k] = abs(mid_mann + (k + 1 - (amount_manns + 1) / 2) * space_manns)\n",
    "        manns[k] = round(manns[k], roundto)\n",
    "    choose_manns[k + 1] = manns[k]"
   ]
  },
  {
   "cell_type": "code",
   "execution_count": null,
   "metadata": {},
   "outputs": [],
   "source": [
    "det = [None] * len(dict_gauge)\n",
    "\n",
    "for key in dict_gauge:\n",
    "    k = list(dict_gauge).index(key)\n",
    "    det[k] = dict_gauge[key]"
   ]
  },
  {
   "cell_type": "markdown",
   "metadata": {},
   "source": [
    "# Show additional parameters"
   ]
  },
  {
   "cell_type": "markdown",
   "metadata": {},
   "source": [
    "Some additional notebook parameters (which are able to be changed in the setrun.py file)."
   ]
  },
  {
   "cell_type": "code",
   "execution_count": null,
   "metadata": {},
   "outputs": [],
   "source": [
    "from setrun import setrun\n",
    "\n",
    "showdata = setrun()\n",
    "\n",
    "# -------------------------------------------------\n",
    "show_cfl_desired = showdata.clawdata.cfl_desired\n",
    "show_cfl_max = showdata.clawdata.cfl_max\n",
    "if showdata.clawdata.order == 1:\n",
    "    show_order = \"Godunov\"\n",
    "else:\n",
    "    show_order = \"Lax-Wendroff plus limiters\"\n",
    "\n",
    "if showdata.clawdata.transverse_waves == 0:\n",
    "    show_transverse_waves = \"Donor cell\"\n",
    "elif showdata.clawdata.transverse_waves == 1:\n",
    "    show_transverse_waves = \"Corner Transport Upwind\"\n",
    "else:\n",
    "    show_transverse_waves = \"Corner Transport Upwind + corrections\"\n",
    "\n",
    "show_num_waves = showdata.clawdata.num_waves\n",
    "\n",
    "show_limiter = (\n",
    "    str(showdata.clawdata.limiter).replace(\"'\", \"\").replace(\"[\", \"\").replace(\"]\", \"\")\n",
    ")\n",
    "\n",
    "\n",
    "show_waves = \"F-waves\" if showdata.clawdata.use_fwaves == True else \"Classic waves\"\n",
    "\n",
    "show_frac_step = showdata.clawdata.source_split\n",
    "show_coriolis = str(showdata.geo_data.coriolis_forcing)\n",
    "show_fric_depth = \"{:.2e}\".format(showdata.geo_data.friction_depth)\n",
    "\n",
    "# -------------------------------------------------\n",
    "table_data = [\n",
    "    [\"Desired Courant number\", show_cfl_desired],\n",
    "    [\"Maximum Courant number\", show_cfl_max],\n",
    "    [\"Riemann solver\", show_order],\n",
    "    [\"Wave propogation method\", show_transverse_waves],\n",
    "    [\"Number of waves in Riemann Solution\", show_num_waves],\n",
    "    [\"Limiters\", show_limiter],\n",
    "    [\"Wave type\", show_waves],\n",
    "    [\"Fractional step algorithm\", show_frac_step],\n",
    "    [\"Coriolis force\", show_coriolis],\n",
    "    [\"Friction depth\", show_fric_depth],\n",
    "]\n",
    "layout = \"{: <40}\" * 2\n",
    "for row in table_data:\n",
    "    print(layout.format(*row))\n",
    "    print(\"-\" * 80)"
   ]
  },
  {
   "cell_type": "markdown",
   "metadata": {},
   "source": [
    "# Animations"
   ]
  },
  {
   "cell_type": "markdown",
   "metadata": {},
   "source": [
    "If you only wish to run the **Plots** section of the notebook, you can comment out everything in the animation section without affecting the rest of the notebook."
   ]
  },
  {
   "cell_type": "markdown",
   "metadata": {},
   "source": [
    "## Animation set up"
   ]
  },
  {
   "cell_type": "code",
   "execution_count": null,
   "metadata": {},
   "outputs": [],
   "source": [
    "anim_manns = [None] * 2\n",
    "if len(choose_manns) > 2:\n",
    "    anim_manns[0] = int(\n",
    "        input(\n",
    "            \"Choose (1-{}) the first mannings values to\"\n",
    "            \" compare via animation: {}\\n\".format(amount_manns, choose_manns)\n",
    "        )\n",
    "    )\n",
    "    anim_manns[1] = int(\n",
    "        input(\n",
    "            \"Choose (1-{}) the second mannings values to\"\n",
    "            \" compare via animation: {}\\n\".format(amount_manns, choose_manns)\n",
    "        )\n",
    "    )\n",
    "else:\n",
    "    print(\"Mannings values to be compiled : {}\\n\".format(manns))\n",
    "    anim_manns[0] = 1\n",
    "    anim_manns[1] = 2\n",
    "\n",
    "anim_dir = \"_saved/_anim/manns_[{},{}]\".format(\n",
    "    choose_manns[anim_manns[0]], choose_manns[anim_manns[1]]\n",
    ")\n",
    "if path.isdir(anim_dir) == False:\n",
    "    mkdir(anim_dir)"
   ]
  },
  {
   "cell_type": "markdown",
   "metadata": {},
   "source": [
    "## North west coast"
   ]
  },
  {
   "cell_type": "markdown",
   "metadata": {},
   "source": [
    "If the animation window is largely taken up by yellow space: check `\"buoy 123\"` and `\"buoy 32412\"` are the first and second entry in `dict_gauge`. If they are not, change the order of the gauges in `dict_gauge` to reflect this and rerun the notebook."
   ]
  },
  {
   "cell_type": "code",
   "execution_count": null,
   "metadata": {},
   "outputs": [],
   "source": [
    "init_comp(2, anim123 = True)\n",
    "stitch_anim('North west coast', 'js')"
   ]
  },
  {
   "cell_type": "markdown",
   "metadata": {},
   "source": [
    "## Full map"
   ]
  },
  {
   "cell_type": "code",
   "execution_count": null,
   "metadata": {},
   "outputs": [],
   "source": [
    "init_comp(1)\n",
    "stitch_anim('Full map', 5)"
   ]
  },
  {
   "cell_type": "markdown",
   "metadata": {},
   "source": [
    "# Plots"
   ]
  },
  {
   "cell_type": "markdown",
   "metadata": {},
   "source": [
    "## Plot set-up"
   ]
  },
  {
   "cell_type": "code",
   "execution_count": null,
   "metadata": {},
   "outputs": [],
   "source": [
    "line_option = [\"-\", \":\", \"--\", \"-.\"]\n",
    "\n",
    "line = [None] * amount_manns\n",
    "\n",
    "for k in range(amount_manns):\n",
    "    line[k] = [None] * 2\n",
    "    j = k % len(colour_option)\n",
    "    l = int(str(k / len(colour_option))[:1])\n",
    "    line[k][0] = line_option[l]\n",
    "    line[k][1] = colour_option[j]"
   ]
  },
  {
   "cell_type": "code",
   "execution_count": null,
   "metadata": {},
   "outputs": [],
   "source": [
    "plots_dir = \"_saved/_plots/manns_{}\".format(manns)\n",
    "if path.isdir(plots_dir) == True:\n",
    "    input(\n",
    "        \"Warning: A directory for these manning's values already exists at {}\\n\"\n",
    "        \"Either :\\n\"\n",
    "        \"1. Press the 'Enter' key to continue creating the plots (and overwrite the plots in the existing directory).\\n\"\n",
    "        \"2. Check the directory does not already contain the plots you wanted to create.\"\n",
    "        \" If so, there is no need to run the notebook as it is presently configured.\\n\".format(\n",
    "            plots_dir\n",
    "        )\n",
    "    )\n",
    "else:\n",
    "    mkdir(plots_dir)"
   ]
  },
  {
   "cell_type": "markdown",
   "metadata": {},
   "source": [
    "Display an image of the map with custom gauges to check positioning. Process is faster than running one of the animations above, as it runs for a single Manning's coefficient."
   ]
  },
  {
   "cell_type": "code",
   "execution_count": null,
   "metadata": {},
   "outputs": [],
   "source": [
    "init_comp(1, plots=True, gauge_map=True)\n",
    "ipyImage(filename=\"_plots_1/frame0000fig0.png\")"
   ]
  },
  {
   "cell_type": "markdown",
   "metadata": {},
   "source": [
    "## Plot gauges"
   ]
  },
  {
   "cell_type": "code",
   "execution_count": null,
   "metadata": {},
   "outputs": [],
   "source": [
    "print(\"\\nAll plots will be saved to {}\\n\".format(plots_dir))\n",
    "for gauge_type in gauge_types:\n",
    "    init_comp(2, plots=True, gauge_type=gauge_type)\n",
    "    for key in dict_gauge:\n",
    "        gauge_name = key\n",
    "        gauge_num = dict_gauge[gauge_name][0]\n",
    "        print(\"-\" * 100)\n",
    "        t, u, v, eta, u_d, v_d, hu, hv, dis_lat, dis_lon = gauge_data()\n",
    "        print(\"-\" * 100)\n",
    "        gauge_label = \"Gauge: {}\".format(gauge_name)\n",
    "        label_spacer = \" \" * (60 - len(gauge_label))\n",
    "        print(\n",
    "            \"\\n{}{}\\n{}{}\\n\".format(\n",
    "                label_spacer, gauge_label, label_spacer, \"=\" * len(gauge_label)\n",
    "            )\n",
    "        )\n",
    "        if gauge_type == \"stationary\":\n",
    "            plotter(\"DAvelocity\")\n",
    "            plotter(\"height\")\n",
    "            if gauge_num == 32412:\n",
    "                plotter_compare()\n",
    "            plotter(\"Wvelocity\")\n",
    "            plotter(\"discharge\")\n",
    "        if gauge_type == \"lagrangian\":\n",
    "            plotter(\"displacement\")"
   ]
  }
 ],
 "metadata": {
  "kernelspec": {
   "display_name": "Python 3",
   "language": "python",
   "name": "python3"
  },
  "language_info": {
   "codemirror_mode": {
    "name": "ipython",
    "version": 3
   },
   "file_extension": ".py",
   "mimetype": "text/x-python",
   "name": "python",
   "nbconvert_exporter": "python",
   "pygments_lexer": "ipython3",
   "version": "3.8.6"
  },
  "toc": {
   "base_numbering": 1,
   "nav_menu": {
    "height": "220.667px",
    "width": "348px"
   },
   "number_sections": true,
   "sideBar": true,
   "skip_h1_title": false,
   "title_cell": "Table of Contents",
   "title_sidebar": "Contents",
   "toc_cell": false,
   "toc_position": {
    "height": "calc(100% - 180px)",
    "left": "10px",
    "top": "150px",
    "width": "256px"
   },
   "toc_section_display": true,
   "toc_window_display": true
  },
  "toc-autonumbering": true,
  "toc-showcode": false,
  "toc-showmarkdowntxt": false,
  "toc-showtags": false,
  "varInspector": {
   "cols": {
    "lenName": 16,
    "lenType": 16,
    "lenVar": 40
   },
   "kernels_config": {
    "python": {
     "delete_cmd_postfix": "",
     "delete_cmd_prefix": "del ",
     "library": "var_list.py",
     "varRefreshCmd": "print(var_dic_list())"
    },
    "r": {
     "delete_cmd_postfix": ") ",
     "delete_cmd_prefix": "rm(",
     "library": "var_list.r",
     "varRefreshCmd": "cat(var_dic_list()) "
    }
   },
   "oldHeight": 122.84966599999998,
   "position": {
    "height": "40px",
    "left": "909px",
    "right": "20px",
    "top": "120px",
    "width": "350px"
   },
   "types_to_exclude": [
    "module",
    "function",
    "builtin_function_or_method",
    "instance",
    "_Feature"
   ],
   "varInspector_section_display": "none",
   "window_display": true
  }
 },
 "nbformat": 4,
 "nbformat_minor": 4
}
