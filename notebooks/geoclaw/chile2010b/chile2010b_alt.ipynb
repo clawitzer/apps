{
 "cells": [
  {
   "cell_type": "markdown",
   "metadata": {},
   "source": [
    "## Notes"
   ]
  },
  {
   "cell_type": "code",
   "execution_count": null,
   "metadata": {},
   "outputs": [],
   "source": [
    "# Sectioning lines\n",
    "#-------------------------------------------------"
   ]
  },
  {
   "cell_type": "code",
   "execution_count": null,
   "metadata": {},
   "outputs": [],
   "source": [
    "#vvvvvvvvvvvvvvvvvvvvvvvvvvvvvvvvvvvvvvvvvvvvvvvvvvvvvvvvvvvvvvvvvvvvvvvvvvvvvvvvvvvvvvvvvvv\n",
    "# These sections are encouraged to be altered! (Of course, you can change all of the code!)\n",
    "#^^^^^^^^^^^^^^^^^^^^^^^^^^^^^^^^^^^^^^^^^^^^^^^^^^^^^^^^^^^^^^^^^^^^^^^^^^^^^^^^^^^^^^^^^^^"
   ]
  },
  {
   "cell_type": "markdown",
   "metadata": {},
   "source": [
    "You can save animations by running them in the HTML5 form, and downloading them manually (hover over the video player and it should show a 'download' option). I've saved the individual frames to seperate files, but haven't found a way to reanimate them."
   ]
  },
  {
   "cell_type": "markdown",
   "metadata": {},
   "source": [
    "exno and figno are the excercise number and figure number, each of which can be viewed in the original version of this file (chile2010b.ipynb)"
   ]
  },
  {
   "cell_type": "markdown",
   "metadata": {},
   "source": [
    "All reference to Manning, including use of the phrase \"Manning's value\", \"Manning's\", or \"Mann\", refers exclusively to Manning's coefficient of friction (or roughness), also known as Manning's n. "
   ]
  },
  {
   "cell_type": "markdown",
   "metadata": {},
   "source": [
    "# Notebook setup"
   ]
  },
  {
   "cell_type": "code",
   "execution_count": null,
   "metadata": {},
   "outputs": [],
   "source": [
    "%pylab inline"
   ]
  },
  {
   "cell_type": "code",
   "execution_count": null,
   "metadata": {},
   "outputs": [],
   "source": [
    "from clawpack.clawutil import nbtools\n",
    "from clawpack.visclaw import animation_tools\n",
    "from IPython.display import HTML, Image as ipyImage\n",
    "from PIL import Image\n",
    "from os import environ, path, mkdir, remove\n",
    "from importlib import import_module\n",
    "from shutil import rmtree, copyfile\n",
    "from glob import glob\n",
    "from distutils.dir_util import copy_tree"
   ]
  },
  {
   "cell_type": "code",
   "execution_count": null,
   "metadata": {},
   "outputs": [],
   "source": [
    "print(\"CLAW =\",environ['CLAW'])\n",
    "print(\"FC =\",environ['FC'])"
   ]
  },
  {
   "cell_type": "code",
   "execution_count": null,
   "metadata": {},
   "outputs": [],
   "source": [
    "nbtools.make_exe(new=True,verbose=True)"
   ]
  },
  {
   "cell_type": "code",
   "execution_count": null,
   "metadata": {},
   "outputs": [],
   "source": [
    "run maketopo.py  # download the topo file and create the dtopo file"
   ]
  },
  {
   "cell_type": "markdown",
   "metadata": {},
   "source": [
    "Make save paths if not found."
   ]
  },
  {
   "cell_type": "code",
   "execution_count": null,
   "metadata": {},
   "outputs": [],
   "source": [
    "save_paths = '_saved', '_saved/_plots', '_saved/_anim'\n",
    "for targ in save_paths:\n",
    "    if path.isdir(targ) == False:\n",
    "        mkdir(targ)"
   ]
  },
  {
   "cell_type": "markdown",
   "metadata": {},
   "source": [
    "Clear old data files and diretories"
   ]
  },
  {
   "cell_type": "code",
   "execution_count": null,
   "metadata": {},
   "outputs": [],
   "source": [
    "for k in range(1,11):\n",
    "    try:\n",
    "        remove('setrun_{}.py'.format(k))\n",
    "        remove('plot_output_{}.txt'.format(k))\n",
    "        remove('run_output_{}.txt'.format(k))\n",
    "        rmtree('_plots_{}'.format(k))\n",
    "        rmtree('_output_{}'.format(k))\n",
    "    except Exception:\n",
    "        pass"
   ]
  },
  {
   "cell_type": "markdown",
   "metadata": {},
   "source": [
    "# Functions"
   ]
  },
  {
   "cell_type": "code",
   "execution_count": null,
   "metadata": {},
   "outputs": [],
   "source": [
    "def old_clear():    \n",
    "    old_data = 'setrun_{}.py', 'plot_output_{}.txt', 'run_output_{}.txt'\n",
    "    old_paths = '_plots_{}', '_output_{}'\n",
    "    for k in range(1,11):\n",
    "        for targ in old_data:\n",
    "            if path.isfile(targ.format(k)) == True:\n",
    "                remove(targ.format(k))\n",
    "        for targ in old_paths:           \n",
    "            if path.isdir(targ.format(k)) == True:\n",
    "                rmtree(targ.format(k))"
   ]
  },
  {
   "cell_type": "markdown",
   "metadata": {},
   "source": [
    "## Initiate data compilation"
   ]
  },
  {
   "cell_type": "markdown",
   "metadata": {},
   "source": [
    "Initiate changes to be written to the *.data files"
   ]
  },
  {
   "cell_type": "code",
   "execution_count": null,
   "metadata": {},
   "outputs": [],
   "source": [
    "def init_comp(exno, anim123 = False, plots = False, gaugemap = False, gtype = 'stationary', out = False):\n",
    "    \n",
    "    if plots == True:\n",
    "        comp_manns = range(1, amount_manns + 1)\n",
    "    # If user is not going to plot curves, only 2 manning's values are neccessary to be compiled\n",
    "    elif plots == False:\n",
    "        comp_manns = anim_manns\n",
    "#-------------------------------------------------        \n",
    "    old_clear()\n",
    "    print(\"Loading...\")\n",
    "#-------------------------------------------------\n",
    "    for element in comp_manns:\n",
    "        copyfile(\"setrun.py\", \"setrun_{}.py\".format(element))\n",
    "        mod = importlib.import_module(\"setrun_{}\".format(element))\n",
    "        rundata = mod.setrun()\n",
    "        # Changes to the original setrun.py\n",
    "#-------------------------------------------------\n",
    "        # Change Manning's\n",
    "        rundata.geo_data.manning_coefficient = manns[element - 1]\n",
    "        # Change output times:\n",
    "        rundata.clawdata.output_style = exno #This is the difference from ex1 to ex2 in the animation\n",
    "        rundata.clawdata.output_times = linspace(3.5,8,19) * 3600.\n",
    "            # Change gauge location:\n",
    "        from clawpack.amrclaw.data import GaugeData\n",
    "        rundata.replace_data(\"gaugedata\", GaugeData())  # clear old gauge data\n",
    "        rundata.gaugedata.gauges = []   # empty list\n",
    "        rundata.gaugedata.gtype = gtype    \n",
    "#-------------------------------------------------\n",
    "        if anim123 == True:\n",
    "            gplot_amount = 2\n",
    "        else:\n",
    "            gplot_amount = len(dict_gauge)\n",
    "        for j in range(gplot_amount):\n",
    "            rundata.gaugedata.gauges.append([det[j][0], det[j][1], det[j][2], det[j][3], det[j][4]]) # not currently close to epicentre gauge\n",
    "        if gaugemap == True:\n",
    "            if element != comp_manns[0]:\n",
    "                    return\n",
    "            rundata.amrdata.amr_levels_max = 3\n",
    "            rundata.amrdata.refinement_ratios_x = [2,2]\n",
    "            rundata.amrdata.refinement_ratios_y = [2,2]\n",
    "            rundata.amrdata.refinement_ratios_t = [2,2]\n",
    "            rundata.regiondata.regions = []  # empty list of regions\n",
    "            rundata.regiondata.regions.append([3, 3, 0., 1e9, -120,-60, -60,0])\n",
    "            # now comp_manns has length of 1, so user will see '100% complete'\n",
    "            comp_manns = [1]\n",
    "#-------------------------------------------------\n",
    "        compiler(rundata, element, comp_manns, out)"
   ]
  },
  {
   "cell_type": "markdown",
   "metadata": {},
   "source": [
    "## Compile data"
   ]
  },
  {
   "cell_type": "markdown",
   "metadata": {},
   "source": [
    "Write (any changes made by the user to) \\*.data files, and then run the code from these files to create fortran data and images to be used in animation. "
   ]
  },
  {
   "cell_type": "code",
   "execution_count": null,
   "metadata": {},
   "outputs": [],
   "source": [
    "def compiler(rundata, element, comp_manns, out = False):\n",
    "    # create *.data files from parameters in setrun.py\n",
    "    rundata.write()\n",
    "    # Run the code from the *.data files\n",
    "    nbtools.make_output_and_plots(label=\"_{}\".format(element), verbose = out)\n",
    "    print(\"{:.0%} complete\".format((comp_manns.index(element) + 1)/(len(comp_manns))))"
   ]
  },
  {
   "cell_type": "markdown",
   "metadata": {},
   "source": [
    "## Show animation"
   ]
  },
  {
   "cell_type": "code",
   "execution_count": null,
   "metadata": {},
   "outputs": [],
   "source": [
    "def show_anim(anim, form = 5):\n",
    "    if form == 'js':\n",
    "        html_version = HTML(anim.to_jshtml())\n",
    "    else:\n",
    "        if form != 5:\n",
    "            print('format not recognised, defaulting to HTML5')\n",
    "        html_version = HTML(anim.to_html5_video())\n",
    "\n",
    "    return html_version"
   ]
  },
  {
   "cell_type": "markdown",
   "metadata": {},
   "source": [
    "## Figures to animate"
   ]
  },
  {
   "cell_type": "markdown",
   "metadata": {},
   "source": [
    "Concatenate frames to be used in animation, then creating the user-facing animation. "
   ]
  },
  {
   "cell_type": "code",
   "execution_count": null,
   "metadata": {},
   "outputs": [],
   "source": [
    "def stitch_anim(anim_area, form = 5):\n",
    "    if anim_area == 'Full map':\n",
    "        frames = 5\n",
    "        exno = 1\n",
    "        figno = 0\n",
    "        extra = ''\n",
    "    \n",
    "    elif anim_area == 'North west coast':\n",
    "        frames = 19\n",
    "        exno = 2\n",
    "        figno = 1\n",
    "        extra = 0\n",
    "        \n",
    "    else:\n",
    "        print (\"Error : Check the animation area was entered correctly\")\n",
    "#-------------------------------------------------\n",
    "    if path.isdir('_plots') == False:\n",
    "        mkdir('_plots')\n",
    "    \n",
    "    old_frames = glob('_plots/*')\n",
    "    for f in old_frames:\n",
    "        remove(f) \n",
    "#-------------------------------------------------    \n",
    "    for a in range(exno - 1 ,frames + 1):\n",
    "        im = Image.open('_plots_{}/frame{:04d}fig{}.png'.format(anim_manns[0],a, figno))\n",
    "        im_alt = Image.open('_plots_{}/frame{:04d}fig{}.png'.format(anim_manns[1], a, figno))\n",
    "        dst = Image.new('RGB', (im.width + im_alt.width, im.height))\n",
    "        dst.paste(im, (0, 0))\n",
    "        dst.paste(im_alt, (im.width, 0))\n",
    "        dst.save('_plots/frame{:04d}fig{}.png'.format(a, figno))\n",
    "#-------------------------------------------------\n",
    "    anim = animation_tools.animate_from_plotdir('_plots', figno)\n",
    "#-------------------------------------------------\n",
    "    anim_path = anim_dir + \"/{}\".format(anim_area.replace(\" \",\"_\"))\n",
    "    if path.isdir(anim_path) == False:\n",
    "        mkdir(anim_path)\n",
    "        copy_tree(\"_plots\", anim_path)\n",
    "    print('Figures for animation saved to:', anim_path)\n",
    "        \n",
    "    print('\\nMannings n = {} on left animation, and n = {} on right '\\\n",
    "          'animation'.format(choose_manns[anim_manns[0]], choose_manns[anim_manns[1]]))\n",
    "    \n",
    "    return show_anim(anim, form)"
   ]
  },
  {
   "cell_type": "markdown",
   "metadata": {},
   "source": [
    "## Import gauge data"
   ]
  },
  {
   "cell_type": "code",
   "execution_count": null,
   "metadata": {},
   "outputs": [],
   "source": [
    "def gauge_data():\n",
    "    from setplot import setplot\n",
    "    plotdata = setplot()\n",
    "    # reset variables\n",
    "    h = [None] * (amount_manns)\n",
    "    u = [None] * (amount_manns)\n",
    "    v = [None] * (amount_manns)\n",
    "    mu = [None] * (amount_manns)\n",
    "    mv = [None] * (amount_manns)\n",
    "    t = [None] * (amount_manns)\n",
    "    eta = [None] * (amount_manns)\n",
    "#-------------------------------------------------\n",
    "    for k in range(amount_manns):\n",
    "        plotdata.outdir = '_output_{}'.format(k + 1)\n",
    "        # get gauge data\n",
    "        g = plotdata.getgauge(gauge_num)\n",
    "        t[k] = g.t / 3600.  # convert to hours\n",
    "        mu[k] = g.q[1,:] # u = east-west momentum\n",
    "        mv[k] = g.q[2,:] # v = north-south momentum\n",
    "        eta[k] = g.q[3,:]   # eta = h + B (depth plus bathymetry)\n",
    "        h[k] = g.q[0,:]       # water depth\n",
    "        u[k] = g.q[1,:] / h[k]  # u = east-west velocity\n",
    "        v[k] = g.q[2,:] / h[k]  # v = north-south velocity\n",
    "        \n",
    "    if gtype == 'lagrangian':\n",
    "        dis_lat = [None] * amount_manns\n",
    "        dis_lon = [None] * amount_manns\n",
    "        for j in range(amount_manns):\n",
    "            dis_lat[j] = empty([len(mu[j])])\n",
    "            dis_lon[j] = empty([len(mv[j])])\n",
    "            for i in range(len(mu[j])):       \n",
    "                dis_lat[j][i] = (det[list(dict_gauge).index(gauge_name)][1] - mu[j][i]) * 110045 # number is the approximate length in meters of a degree of latitude\n",
    "            for h in range(len(mv[j])):   \n",
    "                dis_lon[j][h] = (det[list(dict_gauge).index(gauge_name)][2] - mv[j][h]) * 87870.18 # --\"\"-- longitude, both found on https://www.usgs.gov/faqs/how-much-distance-does-a-degree-minute-and-second-cover-your-maps\n",
    "\n",
    "    else:\n",
    "        dis_lat = 0\n",
    "        dis_lon = 0\n",
    "\n",
    "    return t,eta,u,v,mu,mv,dis_lat,dis_lon"
   ]
  },
  {
   "cell_type": "markdown",
   "metadata": {},
   "source": [
    "## Parameterise graph"
   ]
  },
  {
   "cell_type": "code",
   "execution_count": null,
   "metadata": {},
   "outputs": [],
   "source": [
    "def plotter_details(measure):\n",
    "    if measure == 'height':\n",
    "        var = eta\n",
    "        plot_amount = 1\n",
    "        direct = ['','']     \n",
    "        yunit = 'meters'\n",
    "        heading = 'Sea surface elevation at {} gauge'.format(gauge_name)\n",
    "\n",
    "    elif measure == 'velocity':\n",
    "        var = [u,v]\n",
    "        plot_amount = 2\n",
    "        direct = ['east-west', 'north-south']\n",
    "        yunit = 'meters per second'\n",
    "        heading = 'velocity at {} gauge'.format(gauge_name)\n",
    "    \n",
    "    elif measure == 'discharge':\n",
    "        var = [mu,mv]\n",
    "        plot_amount = 2\n",
    "        direct = ['east-west', 'north-south']\n",
    "        yunit = 'dishcharge'\n",
    "        heading = 'discharge at {} gauge'.format(gauge_name)\n",
    "        \n",
    "    elif measure == 'travel':\n",
    "        var = [dis_lat, dis_lon]\n",
    "        plot_amount = 2\n",
    "        direct = ['east-west', 'north-south']\n",
    "        yunit = 'meters'\n",
    "        heading = 'displacement of {} gauge'.format(gauge_name)\n",
    "        \n",
    "    return var, plot_amount, direct, yunit, heading"
   ]
  },
  {
   "cell_type": "markdown",
   "metadata": {},
   "source": [
    "## Plot graph"
   ]
  },
  {
   "cell_type": "code",
   "execution_count": null,
   "metadata": {},
   "outputs": [],
   "source": [
    "def plotter(measure):\n",
    "    if gtype == 'lagrangian' and measure != 'travel':\n",
    "        print('skipping plot, as gauge type must be \"stationary\" to plot {}'.format(measure))\n",
    "        skip = True\n",
    "    elif gtype == 'stationary' and measure == 'travel':\n",
    "        print('skipping plot, as gauge type must be \"lagrangian\" to plot {}'.format(measure))\n",
    "        skip = True\n",
    "    else:\n",
    "        skip = False\n",
    " #-------------------------------------------------\n",
    "    if skip == False:\n",
    "        var, plot_amount, direct, yunit, heading = plotter_details(measure)\n",
    "        \n",
    "        if plot_amount == 1:\n",
    "            grid()\n",
    "            for k in range(amount_manns):\n",
    "                plot(t[k],var[k], linestyle = line[k][0], color = line[k][1], label=\"{:.3f}\".format(manns[k]))\n",
    "            legend(title=\"Manning's n values\")\n",
    "            title('{}'.format(heading))\n",
    "\n",
    "            xlabel('Hours since earthquake')\n",
    "            ylabel(yunit)\n",
    "\n",
    "        elif plot_amount == 2:\n",
    "            for l in range(2):\n",
    "                subplot(1, 2, (l+1))\n",
    "                grid()\n",
    "                for k in range(amount_manns):\n",
    "                    plot(t[k], var[l][k], linestyle = line[k][0], color = line[k][1], label=\"{:.3f}\".format(manns[k]))\n",
    "                legend(title=\"Manning's n values\")\n",
    "                title('{} {}'.format(direct[l], heading))\n",
    "                xlabel('Hours since earthquake')\n",
    "                ylabel(yunit)\n",
    "\n",
    "        if gtype == 'lagrangian':\n",
    "            ticklabel_format(useOffset = False, style='plain')\n",
    "\n",
    "        tight_layout()\n",
    "        gcf().set_size_inches(14,6)\n",
    "        savefig('_saved/_plots/manns_{}/{}-gauge_{}.png'.format(manns, gauge_name.replace(' ','_'), measure))\n",
    "        show()"
   ]
  },
  {
   "cell_type": "markdown",
   "metadata": {},
   "source": [
    "## Plot comparison graph"
   ]
  },
  {
   "cell_type": "markdown",
   "metadata": {},
   "source": [
    "Plots the graph which compares the simulated data with the real data of gauge 32412"
   ]
  },
  {
   "cell_type": "code",
   "execution_count": null,
   "metadata": {},
   "outputs": [],
   "source": [
    "def plotter_compare():\n",
    "    if gtype == 'lagrangian':\n",
    "        print('Comparison can only be performed on \"stationary\" guage type')\n",
    "    else:\n",
    "        ax = gca()\n",
    "\n",
    "        xmin, xmax, ymin, ymax = (3, 7, -0.20, 0.30)\n",
    "\n",
    "        for k in range(amount_manns):\n",
    "            ax.plot(t[k],eta[k], linestyle = line[k][0], color = line[k][1], label=\"Manning's n = {:.3f}\".format(manns[k]))\n",
    "        ax.plot(0,0,color='k', label=\"Real life data\")\n",
    "        ax.legend()\n",
    "        ax.set_xlim(xmin, xmax)\n",
    "        ax.set_ylim(ymin, ymax)\n",
    "        ax.set_xlabel('Hours since earthquake')\n",
    "        ax.set_ylabel('Meters')\n",
    "        ax.set_title('Sea surface elevation at gauge 32412')\n",
    "\n",
    "        ax.set_zorder(2)\n",
    "        ax.set_facecolor('none')\n",
    "\n",
    "        ax_tw_x = ax.twinx()\n",
    "        ax_tw_x.axis('off')\n",
    "        ax2 = ax_tw_x.twiny()\n",
    "\n",
    "        im = imread('gauge32412-actual-detide.png')\n",
    "        ax2.imshow(im, extent=[xmin, xmax, ymin, ymax], aspect='auto')\n",
    "        ax2.axis('off')\n",
    "\n",
    "        gcf().set_size_inches(14,6)\n",
    "        savefig('_saved/_plots/manns_{}/{}-compare_gauge_height.png'.format(manns, gauge_name.replace(' ','_')))\n",
    "        show()"
   ]
  },
  {
   "cell_type": "markdown",
   "metadata": {},
   "source": [
    "# Custom parameters"
   ]
  },
  {
   "cell_type": "markdown",
   "metadata": {},
   "source": [
    "## Manning's values"
   ]
  },
  {
   "cell_type": "markdown",
   "metadata": {},
   "source": [
    "If true, Manning values will be a family, if false, they will be custom"
   ]
  },
  {
   "cell_type": "code",
   "execution_count": null,
   "metadata": {},
   "outputs": [],
   "source": [
    "#vvvvvvvvvvvvvvvvvvvvvvvvvvvvvvvvvvvvvvvv\n",
    "family_mann = False\n",
    "#^^^^^^^^^^^^^^^^^^^^^^^^^^^^^^^^^^^^^^^^"
   ]
  },
  {
   "cell_type": "markdown",
   "metadata": {},
   "source": [
    "### Family of Manning's values"
   ]
  },
  {
   "cell_type": "markdown",
   "metadata": {},
   "source": [
    "Assign Manning's values as a family, spaced out and centered around a middle value. \n",
    "\n",
    "Please let the amount of Manning's values be no less than 2.\n",
    "\n",
    "Note : Each value may take 1-2 minutes to plot dependent on your machine."
   ]
  },
  {
   "cell_type": "code",
   "execution_count": null,
   "metadata": {},
   "outputs": [],
   "source": [
    "#vvvvvvvvvvvvvvvvvvvvvvvvvvvvvvvvvvvvvvvv\n",
    "amount_manns = 3 # Amount of Manning's values to create \n",
    "mid_mann = 0.5 # Middle Manning's value\n",
    "space_manns = 0.1 # Space between each Manning's value. I.e, to plot 3 Manning's values, with middle value 0.05, and space value 0.02/\n",
    "                    # The total created Manning's values would be [0.03, 0.05, 0.07]\n",
    "#^^^^^^^^^^^^^^^^^^^^^^^^^^^^^^^^^^^^^^^^"
   ]
  },
  {
   "cell_type": "markdown",
   "metadata": {},
   "source": [
    "### Custom Manning's values"
   ]
  },
  {
   "cell_type": "markdown",
   "metadata": {},
   "source": [
    "Dictionary of custom mannings values.\n",
    "\n",
    "To keep a value in the dictionary, but exclude it from simulation: place a '#' in front of the line it is on (This transforms the line to a comment, so the program won't 'read' it).\n",
    "\n",
    "Format : 'Description/name' : Manning's n value"
   ]
  },
  {
   "cell_type": "code",
   "execution_count": null,
   "metadata": {},
   "outputs": [],
   "source": [
    "#vvvvvvvvvvvvvvvvvvvvvvvvvvvvvvvvvvvvvvvvvvvvvvvvvvvvvvvvvvvvvvvvvvvvvvvvvvvvvvvvvvvvvvv\n",
    "dict_mann = {\n",
    "#             'test':5,\n",
    "#             'geoclaw':0.025,\n",
    "#             'yanigasawa_koshimura_mangrove':0.04,\n",
    "#             'yanigasawa_vegitation':0.05,\n",
    "#             'yanigasawa_buildings':0.06,\n",
    "#             'koshimura_low_urban':0.053,\n",
    "            'koshimura_med_urban':0.094,\n",
    "            'koshimura_high_urban':0.172,\n",
    "#             'kotani_coast':0.025\n",
    "#             'kotani_farmland':0.02,\n",
    "#             'kotani_forest':0.03\n",
    "           }\n",
    "#^^^^^^^^^^^^^^^^^^^^^^^^^^^^^^^^^^^^^^^^^^^^^^^^^^^^^^^^^^^^^^^^^^^^^^^^^^^^^^^^^^^^^^^^"
   ]
  },
  {
   "cell_type": "markdown",
   "metadata": {},
   "source": [
    "## Gauges"
   ]
  },
  {
   "cell_type": "markdown",
   "metadata": {},
   "source": [
    "Dictionary of custom gauges.\n",
    "\n",
    "To keep a value in the dictionary, but exclude it from simulation: place a '#' in front of the line it is on (This transforms the line to a comment, so the program won't 'read' it).\n",
    "\n",
    "Entries are of the following form (try to keep location description under 35 characters, and keep latitude and longitude from 1-3 decimal places to avoid float miscalculations when plotting):\n",
    "\n",
    "'location description':[number(0-999) , latitide, longitude, time start(default to 0.), time steps(default to 1.e10)]\n",
    "\n",
    "hint: area wave resides in first hour : [-85,-72,-38,-25]\n",
    "\n",
    "The land border is not the same as that on google maps, so it may be a case of trial and error to show your desired gauge if you are trying to plot very near the coast. For example: The Constitución coast gauge is 6km west of the coast coordinates given on google maps. I have found that plotting 5km or closer often ends in failure to plot velocity, as the height at this gauge is given as 0 (i.e the area being plotted on is land)."
   ]
  },
  {
   "cell_type": "code",
   "execution_count": null,
   "metadata": {},
   "outputs": [],
   "source": [
    "#vvvvvvvvvvvvvvvvvvvvvvvvvvvvvvvvvvvvvvvvvvvvvvvvvvvvvvvvvvvvvvvvvvvvvvvvvvvvvvvvvvvvvvv\n",
    "dict_gauge = { \n",
    "            'Far point': [2,-119.999, -0.001, 0., 1.e10],\n",
    "            'Alejandro Selkirk Island west coast': [3,-80.757, -33.768, 0., 1.e10], \n",
    "            'Robinson Crusoe Island west coast': [4,-78.771, -33.669, 0., 1.e10],\n",
    "            'epicenter':[6,-72.733,-34.909, 0., 1.e10],\n",
    "            'Constitución coast (6km west)': [9,-72.500, -35.331, 0., 1.e10],\n",
    "            '123':[123, -77.3, -12.3, 3.5*3600, 1.e10],\n",
    "            '32412':[32412, -86.392, -17.975, 3*3600, 1.e10]\n",
    "           }\n",
    "#^^^^^^^^^^^^^^^^^^^^^^^^^^^^^^^^^^^^^^^^^^^^^^^^^^^^^^^^^^^^^^^^^^^^^^^^^^^^^^^^^^^^^^^^"
   ]
  },
  {
   "cell_type": "markdown",
   "metadata": {},
   "source": [
    "gtypes is gauge types, which can either be 'stationary', or 'lagrangian', or both. Note: stationary gauges only plot velocity, height and discharge; lagrangian gauges only plot displacement.\n",
    "\n",
    "Plotting all gauge types takes twice as long as plotting either lagrangian or stationary alone. For 10 manning's coefficients, expect to wait around 20-25 minutes to complete."
   ]
  },
  {
   "cell_type": "code",
   "execution_count": null,
   "metadata": {},
   "outputs": [],
   "source": [
    "#vvvvvvvvvvvvvvvvvvvvvvvvvvvvvvvvvvvv\n",
    "gtypes = ['stationary', 'lagrangian']\n",
    "#^^^^^^^^^^^^^^^^^^^^^^^^^^^^^^^^^^^^"
   ]
  },
  {
   "cell_type": "markdown",
   "metadata": {},
   "source": [
    "# Initialise parameter choice"
   ]
  },
  {
   "cell_type": "markdown",
   "metadata": {},
   "source": [
    "Note : All manning values are shown in their absolute value (the program does not display negative values any differently from positive ones)"
   ]
  },
  {
   "cell_type": "code",
   "execution_count": null,
   "metadata": {},
   "outputs": [],
   "source": [
    "choose_manns = {}\n",
    "\n",
    "if family_mann == True:\n",
    "    manns = [None] * amount_manns\n",
    "        \n",
    "elif family_mann == False: \n",
    "    manns = [None] * len(dict_mann)\n",
    "    for key in dict_mann:\n",
    "        k = list(dict_mann).index(key)\n",
    "        manns[k] = dict_mann[key]\n",
    "    manns.sort()\n",
    "        \n",
    "amount_manns = len(manns)\n",
    "    \n",
    "for k in range(amount_manns):\n",
    "    if family_mann == True:\n",
    "        if amount_manns%2 == 0:\n",
    "            manns[k] = abs(mid_mann + (k + 1 - (amount_manns)/2) * space_manns)\n",
    "        else:\n",
    "            manns[k] = abs(mid_mann + (k + 1 - (amount_manns + 1) /2) * space_manns)\n",
    "            \n",
    "    choose_manns[k+1] = manns[k] "
   ]
  },
  {
   "cell_type": "code",
   "execution_count": null,
   "metadata": {},
   "outputs": [],
   "source": [
    "det = [None] * len(dict_gauge)\n",
    "\n",
    "for key in dict_gauge:\n",
    "    k = list(dict_gauge).index(key)\n",
    "    det[k] = dict_gauge[key]"
   ]
  },
  {
   "cell_type": "markdown",
   "metadata": {},
   "source": [
    "# Show additional parameters"
   ]
  },
  {
   "cell_type": "markdown",
   "metadata": {},
   "source": [
    "Some additional notebook parameters (which are able to be changed)."
   ]
  },
  {
   "cell_type": "code",
   "execution_count": null,
   "metadata": {},
   "outputs": [],
   "source": [
    "from setrun import setrun\n",
    "showdata = setrun()\n",
    "\n",
    "#-------------------------------------------------\n",
    "show_cfl_desired = showdata.clawdata.cfl_desired\n",
    "show_cfl_max = showdata.clawdata.cfl_max\n",
    "if showdata.clawdata.order == 1:\n",
    "    show_order = 'Godunov'\n",
    "else:\n",
    "    show_order = 'Lax-Wendroff plus limiters'\n",
    "    \n",
    "if showdata.clawdata.transverse_waves == 0:\n",
    "    show_transverse_waves = 'Donor cell'\n",
    "elif showdata.clawdata.transverse_waves == 1:\n",
    "    show_transverse_waves = 'Corner Transport Upwind'\n",
    "else:\n",
    "    show_transverse_waves = 'Corner Transport Upwind + corrections'\n",
    "\n",
    "show_num_waves = showdata.clawdata.num_waves\n",
    "\n",
    "show_limiter = str(showdata.clawdata.limiter).replace(\"'\",\"\").replace(\"[\",\"\").replace(\"]\",\"\")\n",
    "\n",
    "if showdata.clawdata.use_fwaves == True:\n",
    "    show_waves = 'F-waves'\n",
    "else:\n",
    "    show_waves = 'Classic waves'\n",
    "    \n",
    "show_frac_step = showdata.clawdata.source_split\n",
    "show_coriolis = str(showdata.geo_data.coriolis_forcing)\n",
    "show_fric_depth = \"{:.2e}\".format(showdata.geo_data.friction_depth)\n",
    "    \n",
    "#-------------------------------------------------\n",
    "table_data = [\n",
    "    ['Desired Courant number', show_cfl_desired],\n",
    "    ['Maximum Courant number', show_cfl_max], \n",
    "    ['Riemann solver', show_order],\n",
    "    ['Wave propogation method', show_transverse_waves],\n",
    "    ['Number of waves in Riemann Solution', show_num_waves],\n",
    "    ['Limiters', show_limiter],\n",
    "    ['Wave type',show_waves],\n",
    "    ['Fractional step algorithm', show_frac_step],\n",
    "    ['Coriolis force', show_coriolis],\n",
    "    ['Friction depth', show_fric_depth]\n",
    "]\n",
    "layout = \"{: <40}\" * 2\n",
    "for row in table_data:\n",
    "    print(layout.format(*row))\n",
    "    print('-'*80)"
   ]
  },
  {
   "cell_type": "markdown",
   "metadata": {},
   "source": [
    "# Animations"
   ]
  },
  {
   "cell_type": "markdown",
   "metadata": {},
   "source": [
    "## Animation set up"
   ]
  },
  {
   "cell_type": "code",
   "execution_count": null,
   "metadata": {},
   "outputs": [],
   "source": [
    "anim_manns = [None] * 2\n",
    "if len(choose_manns) > 2:\n",
    "    anim_manns[0] = int(input('Choose (1-{}) the first mannings values to'\\\n",
    "                          ' compare via animation: {}\\n'.format(amount_manns, choose_manns)))\n",
    "    anim_manns[1] = int(input('Choose (1-{}) the second mannings values to'\\\n",
    "                          ' compare via animation: {}\\n'.format(amount_manns, choose_manns)))\n",
    "else:\n",
    "    print('Mannings values to be compiled : {}\\n'.format(manns))\n",
    "    anim_manns[0] = 1\n",
    "    anim_manns[1] = 2\n",
    "\n",
    "anim_dir = '_saved/_anim/manns_[{},{}]'.format(choose_manns[anim_manns[0]],choose_manns[anim_manns[1]])\n",
    "if path.isdir(anim_dir) == False:\n",
    "    mkdir(anim_dir)"
   ]
  },
  {
   "cell_type": "markdown",
   "metadata": {},
   "source": [
    "## North west coast"
   ]
  },
  {
   "cell_type": "code",
   "execution_count": null,
   "metadata": {},
   "outputs": [],
   "source": [
    "init_comp(2, anim123 = True) \n",
    "stitch_anim('North west coast', 'js')"
   ]
  },
  {
   "cell_type": "markdown",
   "metadata": {},
   "source": [
    "## Full map"
   ]
  },
  {
   "cell_type": "code",
   "execution_count": null,
   "metadata": {},
   "outputs": [],
   "source": [
    "init_comp(1)\n",
    "stitch_anim('Full map', 5)"
   ]
  },
  {
   "cell_type": "markdown",
   "metadata": {},
   "source": [
    "# Plots"
   ]
  },
  {
   "cell_type": "markdown",
   "metadata": {},
   "source": [
    "## Plot set-up"
   ]
  },
  {
   "cell_type": "code",
   "execution_count": null,
   "metadata": {},
   "outputs": [],
   "source": [
    "plots_dir = '_saved/_plots/manns_{}'.format(manns)\n",
    "if path.isdir(plots_dir) == False:\n",
    "    mkdir(plots_dir)    \n",
    "#-------------------------------------------------    \n",
    "# line-styler\n",
    "rainbow = ['#ff0000', '#c3ff00', '#00ff00', '#00ffff', \n",
    "          '#0000ff', '#ff00ff']\n",
    "morse = ['-','-.','--', '.']\n",
    "\n",
    "line = [None] * amount_manns\n",
    "\n",
    "for k in range(amount_manns):\n",
    "    line[k] = [None] * 2\n",
    "    j = k % len(rainbow)\n",
    "    l = int(str(k/len(rainbow))[:1]) \n",
    "    line[k][0] = morse[l]\n",
    "    line[k][1] = rainbow[j]"
   ]
  },
  {
   "cell_type": "markdown",
   "metadata": {},
   "source": [
    "Display an image of the map with custom gauges to check positioning. Process is faster than running one of the animations above, as it runs for a single Manning's coefficient."
   ]
  },
  {
   "cell_type": "code",
   "execution_count": null,
   "metadata": {},
   "outputs": [],
   "source": [
    "init_comp(1, plots = True, gaugemap = True)\n",
    "ipyImage(filename='_plots_1/frame0000fig0.png')"
   ]
  },
  {
   "cell_type": "markdown",
   "metadata": {},
   "source": [
    "## Plot gauges"
   ]
  },
  {
   "cell_type": "code",
   "execution_count": null,
   "metadata": {},
   "outputs": [],
   "source": [
    "for gtype in gtypes:\n",
    "#     init_comp(2, plots = True, gtype = gtype)\n",
    "    print('\\nAll plots saved to _saved/_plots/manns_{}\\n'.format(manns))\n",
    "    for key in dict_gauge:\n",
    "        gauge_name = key\n",
    "        gauge_num = dict_gauge[gauge_name][0]\n",
    "        print(\"-\"*100)\n",
    "        t,eta,u,v,mu,mv,dis_lat,dis_lon = gauge_data()\n",
    "        print(\"-\"*100)\n",
    "        label_gauge = 'Gauge: {}'.format(gauge_name)\n",
    "        label_spacer = \" \"*(60-len(label_gauge))\n",
    "        print(\"\\n{}{}\\n{}{}\\n\".format(label_spacer, label_gauge, label_spacer, \"=\"*len(label_gauge)))\n",
    "        if gtype == 'stationary':\n",
    "            plotter('velocity')\n",
    "            plotter('height')\n",
    "            if gauge_num == 32412:\n",
    "                plotter_compare()\n",
    "            plotter('discharge')\n",
    "        if gtype == 'lagrangian': \n",
    "            plotter('travel')"
   ]
  }
 ],
 "metadata": {
  "kernelspec": {
   "display_name": "Python 3",
   "language": "python",
   "name": "python3"
  },
  "language_info": {
   "codemirror_mode": {
    "name": "ipython",
    "version": 3
   },
   "file_extension": ".py",
   "mimetype": "text/x-python",
   "name": "python",
   "nbconvert_exporter": "python",
   "pygments_lexer": "ipython3",
   "version": "3.8.5"
  },
  "toc": {
   "base_numbering": 1,
   "nav_menu": {
    "height": "220.667px",
    "width": "348px"
   },
   "number_sections": true,
   "sideBar": true,
   "skip_h1_title": false,
   "title_cell": "Table of Contents",
   "title_sidebar": "Contents",
   "toc_cell": false,
   "toc_position": {
    "height": "calc(100% - 180px)",
    "left": "10px",
    "top": "150px",
    "width": "256px"
   },
   "toc_section_display": true,
   "toc_window_display": true
  },
  "toc-autonumbering": true,
  "toc-showcode": false,
  "toc-showmarkdowntxt": false,
  "toc-showtags": false,
  "varInspector": {
   "cols": {
    "lenName": 16,
    "lenType": 16,
    "lenVar": 40
   },
   "kernels_config": {
    "python": {
     "delete_cmd_postfix": "",
     "delete_cmd_prefix": "del ",
     "library": "var_list.py",
     "varRefreshCmd": "print(var_dic_list())"
    },
    "r": {
     "delete_cmd_postfix": ") ",
     "delete_cmd_prefix": "rm(",
     "library": "var_list.r",
     "varRefreshCmd": "cat(var_dic_list()) "
    }
   },
   "oldHeight": 122.84966599999998,
   "position": {
    "height": "40px",
    "left": "909px",
    "right": "20px",
    "top": "120px",
    "width": "350px"
   },
   "types_to_exclude": [
    "module",
    "function",
    "builtin_function_or_method",
    "instance",
    "_Feature"
   ],
   "varInspector_section_display": "none",
   "window_display": true
  }
 },
 "nbformat": 4,
 "nbformat_minor": 4
}
