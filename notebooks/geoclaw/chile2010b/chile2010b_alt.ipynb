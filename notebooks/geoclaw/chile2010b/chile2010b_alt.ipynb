{
 "cells": [
  {
   "cell_type": "markdown",
   "metadata": {},
   "source": [
    "## Notes"
   ]
  },
  {
   "cell_type": "code",
   "execution_count": null,
   "metadata": {},
   "outputs": [],
   "source": [
    "#vvvvvvvvvvvvvvvvvvvvvvvvvvvvvvvvvvvvvvvvvvvvvvvvvvvvvvvvvvvvvvvvvvvvvvvvvvvvvvvvvvvvvvvvvvv\n",
    "# These sections are encouraged to be altered! (Of course, you can change all of the code!)\n",
    "#^^^^^^^^^^^^^^^^^^^^^^^^^^^^^^^^^^^^^^^^^^^^^^^^^^^^^^^^^^^^^^^^^^^^^^^^^^^^^^^^^^^^^^^^^^^"
   ]
  },
  {
   "cell_type": "markdown",
   "metadata": {},
   "source": [
    "exno and figno are the excercise number and figure number, each of which can be viewed in the original version of this file (chile2010b.ipynb)"
   ]
  },
  {
   "cell_type": "markdown",
   "metadata": {},
   "source": [
    "This plots in this file do not currently appear to show velocity. The same incorrect values can be found when running the orgignal version of this file."
   ]
  },
  {
   "cell_type": "markdown",
   "metadata": {},
   "source": [
    "## Notebook setup"
   ]
  },
  {
   "cell_type": "code",
   "execution_count": null,
   "metadata": {},
   "outputs": [],
   "source": [
    "%pylab inline"
   ]
  },
  {
   "cell_type": "code",
   "execution_count": null,
   "metadata": {},
   "outputs": [],
   "source": [
    "from clawpack.clawutil import nbtools\n",
    "from clawpack.visclaw import animation_tools\n",
    "from IPython.display import HTML\n",
    "from PIL import Image\n",
    "from os import path, mkdir, remove\n",
    "from shutil import rmtree, copyfile\n",
    "from glob import glob\n",
    "from distutils.dir_util import copy_tree"
   ]
  },
  {
   "cell_type": "code",
   "execution_count": null,
   "metadata": {},
   "outputs": [],
   "source": [
    "nbtools.make_exe(new=True,verbose=False)"
   ]
  },
  {
   "cell_type": "markdown",
   "metadata": {},
   "source": [
    "### Check save path"
   ]
  },
  {
   "cell_type": "code",
   "execution_count": null,
   "metadata": {},
   "outputs": [],
   "source": [
    "if path.isdir('_saved') == False:\n",
    "    mkdir('_saved')\n",
    "elif path.isdir('_saved/_plots') == False:\n",
    "    mkdir('_saved/_plots')\n",
    "elif path.isdir('_saved/_anim') == False:\n",
    "    mkdir('_saved/_anim')"
   ]
  },
  {
   "cell_type": "markdown",
   "metadata": {},
   "source": [
    "### Clear old data files and diretories"
   ]
  },
  {
   "cell_type": "code",
   "execution_count": null,
   "metadata": {},
   "outputs": [],
   "source": [
    "for k in range(1,11):\n",
    "    try:\n",
    "        remove('setrun_{}.py'.format(k))\n",
    "        remove('plot_output_{}.txt'.format(k))\n",
    "        remove('run_output_{}.txt'.format(k))\n",
    "        rmtree('_plots_{}'.format(k))\n",
    "        rmtree('_output_{}'.format(k))\n",
    "    except Exception:\n",
    "        pass"
   ]
  },
  {
   "cell_type": "markdown",
   "metadata": {},
   "source": [
    "## Functions"
   ]
  },
  {
   "cell_type": "markdown",
   "metadata": {},
   "source": [
    "### Display animation"
   ]
  },
  {
   "cell_type": "code",
   "execution_count": null,
   "metadata": {},
   "outputs": [],
   "source": [
    "def show_anim(anim, form = 5):\n",
    "    if form == 5:\n",
    "        html_version = HTML(anim.to_html5_video())\n",
    "    else:\n",
    "        if form != 'js':\n",
    "            print('format not recognised, defaulting to jshtml')\n",
    "        html_version = HTML(anim.to_jshtml())\n",
    "\n",
    "    return html_version"
   ]
  },
  {
   "cell_type": "markdown",
   "metadata": {},
   "source": [
    "### Initiate changes to be written to the *.data files"
   ]
  },
  {
   "cell_type": "code",
   "execution_count": null,
   "metadata": {},
   "outputs": [],
   "source": [
    "def init_comp(exno, anim123 = False, plots = False, gtype = 'stationary'):\n",
    "    \n",
    "    if gtype == 'lagrangian':\n",
    "        print('Warning: Only \"travel\" plots can be shown correctly on \"lagrangian\" gauge type')\n",
    "    else:\n",
    "        print('Warning: \"travel\" plots cannot be shown correctly on \"stationary\" gauge type')\n",
    "        \n",
    "    if plots == True:\n",
    "        comp_manns = range(1, amount_manns + 1)\n",
    "    # If user is not going to plot curves, only 2 manning's values are neccessary to be compiled\n",
    "    elif plots == False:\n",
    "        comp_manns = anim_manns\n",
    "     \n",
    "    for element in comp_manns:\n",
    "        mod = importlib.import_module(\"setrun_{}\".format(element))\n",
    "        rundata = mod.setrun()\n",
    "        # Changes to the original setrun.py\n",
    "        #---------------------------------------\n",
    "        # Change Mannings\n",
    "        rundata.geo_data.manning_coefficient = manns[element - 1]\n",
    "        # Change output times:\n",
    "        rundata.clawdata.output_style = exno #This is the difference from ex1 to ex2 in the animation\n",
    "        rundata.clawdata.output_times = linspace(3.5,8,19) * 3600.\n",
    "            # Change gauge location:\n",
    "        from clawpack.amrclaw.data import GaugeData\n",
    "        rundata.replace_data(\"gaugedata\", GaugeData())  # clear old gauge data\n",
    "        rundata.gaugedata.gauges = []   # empty list\n",
    "        rundata.gaugedata.gtype = gtype    \n",
    "        \n",
    "        if anim123 == True:\n",
    "            gplot_amount = 2\n",
    "        else:\n",
    "            gplot = len(dict_loc)\n",
    "        for j in range(gplot):\n",
    "            rundata.gaugedata.gauges.append([det[j][0], det[j][1], det[j][2], det[j][3], det[j][4]]) # not currently close to epicentre gauge\n",
    "        #---------------------------------------\n",
    "        compiler(rundata, element, comp_manns)"
   ]
  },
  {
   "cell_type": "markdown",
   "metadata": {},
   "source": [
    "### Write (any changes made by the user to) \\*.data files, and then run the code from these files to create fortran data and images to be used in animation. "
   ]
  },
  {
   "cell_type": "code",
   "execution_count": null,
   "metadata": {},
   "outputs": [],
   "source": [
    "def compiler(rundata, element, comp_manns, out = False):\n",
    "    # create *.data files from parameters in setrun.py\n",
    "    rundata.write()\n",
    "    # Run the code from the *.data files\n",
    "    nbtools.make_output_and_plots(label=\"_{}\".format(element), verbose = out)\n",
    "    print(\"{:.0%} complete\".format((comp_manns.index(element) + 1)/(len(comp_manns))))"
   ]
  },
  {
   "cell_type": "markdown",
   "metadata": {},
   "source": [
    "### Concatenate frames to be used in animation, then creating the user-facing animation. "
   ]
  },
  {
   "cell_type": "code",
   "execution_count": null,
   "metadata": {},
   "outputs": [],
   "source": [
    "def stitch_anim(anim_manns, amount_manns, choose_manns, exno = 1, figno = 0, form = 5):\n",
    "\n",
    "    old_frames = glob('_plots/*')\n",
    "    for f in old_frames:\n",
    "        remove(f)\n",
    "        \n",
    "    if exno == 1:\n",
    "        frames = 5\n",
    "        extra = ''\n",
    "    elif exno == 2:\n",
    "        frames = 19\n",
    "        extra = 0\n",
    "    else:\n",
    "        print (\"Error : Enter the exercise you are running, either 1, or 2\")\n",
    "        \n",
    "    for a in range(exno - 1 ,frames + 1):\n",
    "        im = Image.open('_plots_{}/frame{:04d}fig{}.png'.format(anim_manns[0],a, figno))\n",
    "        im_alt = Image.open('_plots_{}/frame{:04d}fig{}.png'.format(anim_manns[1], a, figno))\n",
    "        dst = Image.new('RGB', (im.width + im_alt.width, im.height))\n",
    "        dst.paste(im, (0, 0))\n",
    "        dst.paste(im_alt, (im.width, 0))\n",
    "        dst.save('_plots/frame{:04d}fig{}.png'.format(a, figno))\n",
    "        \n",
    "\n",
    "    anim = animation_tools.animate_from_plotdir('_plots', figno)\n",
    "    \n",
    "    if path.isdir(\"_saved/_anim/ex_{}-fig_{}-manns_[{},{}]\".format(exno, figno, choose_manns[anim_manns[0]], choose_manns[anim_manns[1]])) == False:\n",
    "        mkdir(\"_saved/_anim/ex_{}-fig_{}-manns_[{},{}]\".format(exno, figno, choose_manns[anim_manns[0]], choose_manns[anim_manns[1]]))\n",
    "        copy_tree(\"_plots\", \"_saved/_anim/ex_{}-fig_{}-manns_[{},{}]\".format(exno, figno, choose_manns[anim_manns[0]], choose_manns[anim_manns[1]]))\n",
    "    print('Figures for animation saved to _saved/_anim/ex_{}-fig_{}-manns_[{},{}]'.format(exno, figno, choose_manns[anim_manns[0]], choose_manns[anim_manns[1]]))\n",
    "        \n",
    "    print('\\nMannings n = {} on left animation, and n = {} on right '\\\n",
    "          'animation'.format(choose_manns[anim_manns[0]], choose_manns[anim_manns[1]]))\n",
    "    \n",
    "    return show_anim(anim, form)"
   ]
  },
  {
   "cell_type": "markdown",
   "metadata": {},
   "source": [
    "### Import gauge data"
   ]
  },
  {
   "cell_type": "code",
   "execution_count": null,
   "metadata": {},
   "outputs": [],
   "source": [
    "def gauge_data():\n",
    "    from setplot import setplot\n",
    "    plotdata = setplot()\n",
    "    # reset variables\n",
    "    h = [None] * (amount_manns)\n",
    "    u = [None] * (amount_manns)\n",
    "    v = [None] * (amount_manns)\n",
    "    mu = [None] * (amount_manns)\n",
    "    mv = [None] * (amount_manns)\n",
    "    t = [None] * (amount_manns)\n",
    "    eta = [None] * (amount_manns)\n",
    "\n",
    "    for k in range(amount_manns):\n",
    "        plotdata.outdir = '_output_{}'.format(k + 1)\n",
    "        # get gauge data\n",
    "        g = plotdata.getgauge(gauge_num)\n",
    "        t[k] = g.t / 3600.  # convert to hours\n",
    "        mu[k] = g.q[1,:] # u = east-west momentum\n",
    "        mv[k] = g.q[2,:] # v = north-south momentum\n",
    "        eta[k] = g.q[3,:]   # eta = h + B (depth plus bathymetry)\n",
    "        h[k] = g.q[0,:]       # water depth\n",
    "        u[k] = g.q[1,:] / h[k]  # u = east-west velocity\n",
    "        v[k] = g.q[2,:] / h[k]  # v = north-south velocity\n",
    "        \n",
    "    if gtype == 'lagrangian':\n",
    "        dis_lat = [None] * amount_manns\n",
    "        dis_lon = [None] * amount_manns\n",
    "        for j in range(amount_manns):\n",
    "            dis_lat[j] = empty([len(mu[j])])\n",
    "            dis_lon[j] = empty([len(mv[j])])\n",
    "            for i in range(len(mu[j])):       \n",
    "                dis_lat[j][i] = (det[list(dict_loc).index(gauge_name)][1] - mu[j][i]) * 110045\n",
    "            for h in range(len(mv[j])):   \n",
    "                dis_lon[j][h] = (det[list(dict_loc).index(gauge_name)][2] - mv[j][h]) * 87870.18\n",
    "    else:\n",
    "        dis_lat = 0\n",
    "        dis_lon = 0\n",
    "    \n",
    "    return t,eta,u,v,mu,mv,dis_lat,dis_lon"
   ]
  },
  {
   "cell_type": "markdown",
   "metadata": {},
   "source": [
    "### Get graph details"
   ]
  },
  {
   "cell_type": "code",
   "execution_count": null,
   "metadata": {},
   "outputs": [],
   "source": [
    "def plotter_details(measure):\n",
    "    if measure == 'height':\n",
    "        var = eta\n",
    "        plot_amount = 1\n",
    "        direct = ['','']     \n",
    "        yunit = 'meters'\n",
    "        heading = 'Sea surface elevation at {} gauge'.format(gauge_name)\n",
    "\n",
    "    elif measure == 'velocity':\n",
    "        var = [u,v]\n",
    "        plot_amount = 2\n",
    "        direct = ['east-west', 'north-south']\n",
    "        yunit = 'meters per second'\n",
    "        heading = 'velocity at {} gauge'.format(gauge_name)\n",
    "    \n",
    "    elif measure == 'momentum':\n",
    "        var = [mu,mv]\n",
    "        plot_amount = 2\n",
    "        direct = ['east-west', 'north-south']\n",
    "        yunit = 'kilograms per meter per second'\n",
    "        heading = 'momentum at {} gauge'.format(gauge_name)\n",
    "        \n",
    "    elif measure == 'travel':\n",
    "        var = [dis_lat, dis_lon]\n",
    "        plot_amount = 2\n",
    "        direct = ['east-west', 'north-south']\n",
    "        yunit = 'meters'\n",
    "        heading = 'displacement of {} gauge'.format(gauge_name)\n",
    "        \n",
    "    return var, plot_amount, direct, yunit, heading"
   ]
  },
  {
   "cell_type": "markdown",
   "metadata": {},
   "source": [
    "### Plot graph"
   ]
  },
  {
   "cell_type": "code",
   "execution_count": null,
   "metadata": {},
   "outputs": [],
   "source": [
    "def plotter(measure):\n",
    "    if gtype == 'lagrangian' and measure != 'travel':\n",
    "        print('skipping plot, as gauge type must be \"stationary\" to plot {}'.format(measure))\n",
    "        skip = True\n",
    "    elif gtype == 'stationary' and measure == 'travel':\n",
    "        print('skipping plot, as gauge type must be \"lagrangian\" to plot {}'.format(measure))\n",
    "        skip = True\n",
    "    else:\n",
    "        skip = False\n",
    "    \n",
    "    if skip == False:\n",
    "        var, plot_amount, direct, yunit, heading = plotter_details(measure)\n",
    "        if plot_amount == 1:\n",
    "            grid()\n",
    "            for k in range(amount_manns):\n",
    "                plot(t[k],var[k], linestyle = line[k][0], color = line[k][1], label=\"Manning's n = {:.3f}\".format(manns[k]))\n",
    "            title('{}'.format(heading))\n",
    "\n",
    "        elif plot_amount == 2:\n",
    "            for l in range(2):\n",
    "                subplot(1, 2, (l+1))\n",
    "                grid()\n",
    "                for k in range(amount_manns):\n",
    "                    plot(t[k], var[l][k], linestyle = line[k][0], color = line[k][1], label=\"Manning's n = {:.3f}\".format(manns[k]))\n",
    "                title('{} {}'.format(direct[l], heading))\n",
    "\n",
    "        if gtype == 'lagrangian':\n",
    "            ticklabel_format(useOffset = False, style='plain')\n",
    "        legend()\n",
    "        xlabel('Hours since earthquake')\n",
    "        ylabel(yunit)\n",
    "        \n",
    "\n",
    "        tight_layout()\n",
    "        gcf().set_size_inches(14,6)\n",
    "        savefig('_saved/_plots/manns_{}/{}-gauge_{}.png'.format(manns, gauge_name.replace(' ','_'), measure))\n",
    "        show()"
   ]
  },
  {
   "cell_type": "code",
   "execution_count": null,
   "metadata": {},
   "outputs": [],
   "source": [
    "def plotter_compare():\n",
    "    if gtype == 'lagrangian':\n",
    "        print('Comparison can only be performed on \"stationary\" guage type')\n",
    "    else:\n",
    "        ax = gca()\n",
    "\n",
    "        xmin, xmax, ymin, ymax = (3, 7, -0.20, 0.30)\n",
    "\n",
    "        for k in range(amount_manns):\n",
    "            ax.plot(t[k],eta[k], linestyle = line[k][0], color = line[k][1], label=\"Manning's n = {:.3f}\".format(manns[k]))\n",
    "        ax.plot(0,0,color='k', label=\"Real life data\")\n",
    "        ax.legend()\n",
    "        ax.set_xlim(xmin, xmax)\n",
    "        ax.set_ylim(ymin, ymax)\n",
    "        ax.set_xlabel('Hours since earthquake')\n",
    "        ax.set_ylabel('Meters')\n",
    "        ax.set_title('Sea surface elevation at gauge 32412')\n",
    "\n",
    "        ax.set_zorder(2)\n",
    "        ax.set_facecolor('none')\n",
    "\n",
    "        ax_tw_x = ax.twinx()\n",
    "        ax_tw_x.axis('off')\n",
    "        ax2 = ax_tw_x.twiny()\n",
    "\n",
    "        im = imread('gauge32412-actual-detide.png')\n",
    "        ax2.imshow(im, extent=[xmin, xmax, ymin, ymax], aspect='auto')\n",
    "        ax2.axis('off')\n",
    "\n",
    "        gcf().set_size_inches(14,6)\n",
    "        savefig('_saved/_plots/manns_{}/{}-compare_gauge_height.png'.format(manns, gauge_name.replace(' ','_')))\n",
    "        show()"
   ]
  },
  {
   "cell_type": "markdown",
   "metadata": {},
   "source": [
    "## Customisation"
   ]
  },
  {
   "cell_type": "markdown",
   "metadata": {},
   "source": [
    "### Edit mannings values"
   ]
  },
  {
   "cell_type": "markdown",
   "metadata": {},
   "source": [
    "Note : All manning values are shown in their absolute value (the program does not display negative values any differently from positive ones)"
   ]
  },
  {
   "cell_type": "code",
   "execution_count": null,
   "metadata": {},
   "outputs": [],
   "source": [
    "# Custom mannings values\n",
    "#vvvvvvvvvvvvvvvvvvvvvvvvvvvvvvvvvvvvvvvvv\n",
    "geoclaw_tsunami = 0.025\n",
    "yanigasawa_koshimura_2009_mangrove = 0.04\n",
    "test = 10\n",
    "#^^^^^^^^^^^^^^^^^^^^^^^^^^^^^^^^^^^^^^^^^"
   ]
  },
  {
   "cell_type": "code",
   "execution_count": null,
   "metadata": {},
   "outputs": [],
   "source": [
    "choose_manns = {}\n",
    "\n",
    "# Choose purpose of current data complation\n",
    "#vvvvvvvvvvvvvvvvvvvvvvvvvvvvvvvvvvvvvvvv\n",
    "plot_family = False\n",
    "#^^^^^^^^^^^^^^^^^^^^^^^^^^^^^^^^^^^^^^^^\n",
    " \n",
    "if plot_family == True:\n",
    "    # Plot family of curves around a specified middle mannings value. \n",
    "    # 10 curves may take from 5-10 minutes to plot dependent on your machine.\n",
    "    # Please choose no more than 10, as I haven't written more than 10 individual colours for the curves.\n",
    "    #vvvvvvvvvvvvvvvvvvvvvvvvvvvvvvvvvvvvvvvv\n",
    "    amount_manns = 10\n",
    "    mid_mann = 0.5\n",
    "    space_manns = 0.1\n",
    "    #^^^^^^^^^^^^^^^^^^^^^^^^^^^^^^^^^^^^^^^^\n",
    "    manns = [None] * amount_manns\n",
    "\n",
    "        \n",
    "elif plot_family == False: \n",
    "    #vvvvvvvvvvvvvvvvvvvvvvvvvvvvvvvvvvvvvvvv\n",
    "    manns = [test, yanigasawa_koshimura_2009_mangrove]\n",
    "    #^^^^^^^^^^^^^^^^^^^^^^^^^^^^^^^^^^^^^^^^\n",
    "    amount_manns = len(manns)\n",
    "    \n",
    "for k in range (amount_manns):\n",
    "    if plot_family == True:\n",
    "        if amount_manns%2 == 0:\n",
    "            manns[k] = abs(mid_mann + (k + 1 - (amount_manns)/2) * space_manns)\n",
    "        else:\n",
    "            manns[k] = abs(mid_mann + (k + 1 - (amount_manns + 1) /2) * space_manns)\n",
    "            \n",
    "    choose_manns[k+1] = manns[k] \n",
    "    \n",
    "    copyfile(\"setrun.py\", \"setrun_{}.py\".format(k + 1))\n",
    "\n",
    "anim_manns = [None] * 2\n",
    "if len(choose_manns) > 2:\n",
    "    anim_manns[0] = int(input('Choose (1-{}) the first mannings values to'\\\n",
    "                          ' compare via animation: {}\\n'.format(amount_manns, choose_manns)))\n",
    "    anim_manns[1] = int(input('Choose (1-{}) the second mannings values to'\\\n",
    "                          ' compare via animation: {}\\n'.format(amount_manns, choose_manns)))\n",
    "else:\n",
    "    print('Mannings values to be compiled : {}\\n'.format(manns))\n",
    "    anim_manns[0] = 1\n",
    "    anim_manns[1] = 2"
   ]
  },
  {
   "cell_type": "markdown",
   "metadata": {},
   "source": [
    "### Edit location of gauges"
   ]
  },
  {
   "cell_type": "markdown",
   "metadata": {},
   "source": [
    "area wave resides in first hour [-85,-72,-38,-25]"
   ]
  },
  {
   "cell_type": "code",
   "execution_count": null,
   "metadata": {},
   "outputs": [],
   "source": [
    "# custom locations to plot gauges at:\n",
    "# If unsure, just copy and past this, and replace the named parts\n",
    "# 'location description':[number(0-999) , latitide, longitude, 0., 1.e10].\n",
    "# try to keep location description under 35 characters.\n",
    "#vvvvvvvvvvvvvvvvvvvvvvvvvvvvvvvvvvvvvvvvvvvvvvvvvvvvvvvvvvvvvvvvvvvvvvvvvvvvvvvvvvvvvvvv\n",
    "dict_loc = {'Chile north coast':[123, -77.3, -12.3, 3.5*3600, 1.e10],\n",
    "            '32412':[32412, -86.392, -17.975, 0., 1.e10],\n",
    "            'south west epicenter':[6,-76,-40, 0., 1.e10],\n",
    "            'epicenter':[3,-72.733,-34.909, 0., 1.e10], \n",
    "            'Alejandro Selkirk Island west coast': [4,-80.756765, -33.767759, 0., 1.e10], \n",
    "            'Robinson Crusoe Island west coast':  [5,-78.770779, -33.668985, 0., 1.e10],\n",
    "           }\n",
    "#^^^^^^^^^^^^^^^^^^^^^^^^^^^^^^^^^^^^^^^^^^^^^^^^^^^^^^^^^^^^^^^^^^^^^^^^^^^^^^^^^^^^^^^^\n",
    "det = [None] * len(dict_loc)\n",
    "\n",
    "for key in dict_loc:\n",
    "    k = list(dict_loc).index(key)\n",
    "    det[k] = dict_loc[key]"
   ]
  },
  {
   "cell_type": "markdown",
   "metadata": {},
   "source": [
    "# Animations"
   ]
  },
  {
   "cell_type": "markdown",
   "metadata": {},
   "source": [
    "## North east section"
   ]
  },
  {
   "cell_type": "code",
   "execution_count": null,
   "metadata": {},
   "outputs": [],
   "source": [
    "# exno = 2\n",
    "# init_comp(exno, anim123 = True) \n",
    "\n",
    "# figno = 1\n",
    "# stitch_anim(anim_manns, amount_manns, choose_manns, exno, figno, 'js')"
   ]
  },
  {
   "cell_type": "markdown",
   "metadata": {},
   "source": [
    "## Full map"
   ]
  },
  {
   "cell_type": "markdown",
   "metadata": {},
   "source": [
    "You can use this animation to check your gauges are positioned correctly. Custom gauge numbers correspond to their position in the dictionary above."
   ]
  },
  {
   "cell_type": "code",
   "execution_count": null,
   "metadata": {},
   "outputs": [],
   "source": [
    "# exno = 1\n",
    "# init_comp(exno)\n",
    "\n",
    "# figno = 0\n",
    "# stitch_anim(anim_manns, amount_manns, choose_manns, exno, figno, 'js')"
   ]
  },
  {
   "cell_type": "markdown",
   "metadata": {},
   "source": [
    "# Plots"
   ]
  },
  {
   "cell_type": "markdown",
   "metadata": {},
   "source": [
    "## Plot set-up"
   ]
  },
  {
   "cell_type": "code",
   "execution_count": null,
   "metadata": {},
   "outputs": [],
   "source": [
    "# line-styler\n",
    "rainbow = ['#ff0000', '#c3ff00', '#00ff00', '#00ffff', \n",
    "          '#0000ff', '#ff00ff']\n",
    "morse = ['-','-.','--', '.']\n",
    "\n",
    "line = [None] * amount_manns\n",
    "\n",
    "for k in range(amount_manns):\n",
    "    line[k] = [None] * 2\n",
    "    j = k % len(rainbow)\n",
    "    l = int(str(k/len(rainbow))[:1]) \n",
    "    line[k][0] = morse[l]\n",
    "    line[k][1] = rainbow[j]"
   ]
  },
  {
   "cell_type": "code",
   "execution_count": null,
   "metadata": {},
   "outputs": [],
   "source": [
    "if path.isdir('_saved/_plots/manns_{}'.format(manns)) == False:\n",
    "    mkdir('_saved/_plots/manns_{}'.format(manns))"
   ]
  },
  {
   "cell_type": "markdown",
   "metadata": {},
   "source": [
    "## Stationary Gauge"
   ]
  },
  {
   "cell_type": "markdown",
   "metadata": {},
   "source": [
    "### Initiate gauges"
   ]
  },
  {
   "cell_type": "code",
   "execution_count": null,
   "metadata": {},
   "outputs": [],
   "source": [
    "# gtype is gauge type, which can either be 'stationary' or 'lagrangian'\n",
    "#vvvvvvvvvvvvvvvvvvvvvvvv\n",
    "gtype = 'lagrangian'\n",
    "#^^^^^^^^^^^^^^^^^^^^^^^^\n",
    "exno = 2\n",
    "\n",
    "if exno == 1:\n",
    "    raise Exception(\"You need to run exercise number 2 with all gauge plots\"\\\n",
    "                    \" compiled to view the plots correctly. Please run the\"\\\n",
    "                    \" cell above this error and then continue running the notebook\")\n",
    "\n",
    "init_comp(exno, plots = True, gtype = gtype)"
   ]
  },
  {
   "cell_type": "markdown",
   "metadata": {},
   "source": [
    "### Plot gauges"
   ]
  },
  {
   "cell_type": "code",
   "execution_count": null,
   "metadata": {},
   "outputs": [],
   "source": [
    "print('All plots saved to _saved/_plots/manns_{}'.format(manns))\n",
    "for key in dict_loc:\n",
    "\n",
    "    gauge_name = key\n",
    "    gauge_num = dict_loc[gauge_name][0]\n",
    "    t,eta,u,v,mu,mv,dis_lat,dis_lon = gauge_data()\n",
    "    print('#################-{}-#################################'.format(gauge_name))\n",
    "    if gtype == 'stationary':\n",
    "        plotter('velocity')\n",
    "        plotter('height')\n",
    "        if gauge_num == 32412:\n",
    "            plotter_compare()\n",
    "        plotter('momentum')\n",
    "    if gtype == 'lagrangian': \n",
    "        plotter('travel')"
   ]
  },
  {
   "cell_type": "markdown",
   "metadata": {},
   "source": [
    "# TESTING AREA"
   ]
  },
  {
   "cell_type": "markdown",
   "metadata": {},
   "source": [
    "Notes :\n",
    "- Save plots and animations (can I use the anim. in the first function? like anim.save?)\n",
    "- Write figure legends\n",
    "- Use G123 data to test different values given in the paper for areas such as forests,\n",
    "    importance of mangrove trees was undervalued\n",
    "- colours need to have more distinction"
   ]
  },
  {
   "cell_type": "markdown",
   "metadata": {},
   "source": [
    "attempting to plot lagrangian guages which start at 0, and show travel from tsunami (not speed, distance)"
   ]
  },
  {
   "cell_type": "code",
   "execution_count": null,
   "metadata": {},
   "outputs": [],
   "source": [
    "# def plotter(measure):\n",
    "#     if measure == 'height':\n",
    "#         grid()\n",
    "#         for k in range(amount_manns):\n",
    "#             plot(t[k],eta[k], linestyle = line[k][0], color = line[k][1], label=\"Manning's n = {:.3f}\".format(manns[k]))\n",
    "#         legend()\n",
    "#         xlabel('Hours since earthquake')\n",
    "#         ylabel('meters')\n",
    "#         title('Sea surface elevation at gauge {}'.format(gauge_name))\n",
    "\n",
    "#     else: \n",
    "#         if measure == 'velocity':\n",
    "#             var = [u, v]\n",
    "#             add_unit = ['', 's']\n",
    "            \n",
    "#         elif measure == 'momentum':\n",
    "            \n",
    "#             if gtype == 'lagrangian':\n",
    "#                 for j in range(amount_manns):\n",
    "# #                     mu[j] = [(x - det[j][1]) * 110045 for x in mu[j]]\n",
    "# #                     mv[j] = [(y - det[j][2]) * 87870.18 for y in mv[j]]\n",
    "#                     for i in range(len(mu[j])):\n",
    "#                         mu[j][i] = det[list(dict_loc).index(gauge_name)][1] - mu[j][i]\n",
    "#                     for h in range(len(mv[j])):    \n",
    "#                         mv[j][i] = det[list(dict_loc).index(gauge_name)][2] - mv[j][i]\n",
    "#                 print(mu[0][0],mu[1][0],mv[0][0],mv[1][0])\n",
    "#             var = [mu, mv]\n",
    "#             add_unit = ['kilograms per ', '']\n",
    "#         direct = ['east-west ', 'north-south ']\n",
    "#         for l in range(2):\n",
    "#             subplot(1, 2, (l+1))\n",
    "#             grid()\n",
    "#             for k in range(amount_manns):\n",
    "#                 plot(t[k], var[l][k], linestyle = line[k][0], color = line[k][1], label=\"Manning's n = {:.3f}\".format(manns[k]))\n",
    "#             if gtype == 'lagrangian':\n",
    "#                 ticklabel_format(useOffset = False, style='plain')\n",
    "#             xlabel('Hours since earthquake')\n",
    "#             ylabel('{}meter{} per second'.format(add_unit[0], add_unit[1]))\n",
    "#             title('{}{} at {}'.format(direct[l], measure, gauge_name))\n",
    "    \n",
    "#     tight_layout()\n",
    "#     gcf().set_size_inches(14,6)\n",
    "#     savefig('_saved/_plots/manns_{}/gauge_{}-measure_{}.png'.format(manns, gauge_name, measure))\n",
    "#     show()"
   ]
  },
  {
   "cell_type": "code",
   "execution_count": null,
   "metadata": {},
   "outputs": [],
   "source": [
    "# anim = animation_tools.animate_from_plotdir('_saved/_anim/ex_1-fig_0-manns_[0.025,0.04]', 0)\n",
    "# show_anim(anim)"
   ]
  },
  {
   "cell_type": "code",
   "execution_count": null,
   "metadata": {},
   "outputs": [],
   "source": [
    "# def not_tall():\n",
    "#     direct = ['east-west ', 'north-south ']\n",
    "#     for j in range(2):\n",
    "#         subplot(1, 2, (j+1))\n",
    "#         grid()\n",
    "#         for k in range(amount_manns):\n",
    "#             plot(t[k], var[j][k], linestyle = line[k][0], color = line[k][1], label=\"Manning's n = {:.3f}\".format(manns[k]))\n",
    "#         xlabel('Hours since earthquake')\n",
    "#         ylabel('{}meter{} per second'.format(add_unit[0], add_unit[1]))\n",
    "#         title('{}{} at {}'.format(direct[j], measure, gauge_name))\n",
    "\n",
    "# def plotter():\n",
    "#         grid()\n",
    "#         for k in range(amount_manns):\n",
    "#             plot(t[k],eta[k], linestyle = line[k][0], color = line[k][1], label=\"Manning's n = {:.3f}\".format(manns[k]))\n",
    "#         legend()\n",
    "#         xlabel('Hours since earthquake')\n",
    "#         ylabel('meters')\n",
    "#         title('Sea surface elevation at gauge {}'.format(gauge_name))\n",
    " \n",
    "#         var = [u, v]\n",
    "#         add_unit = ['', 's']\n",
    "#         not_tall()\n",
    "\n",
    "#         var = [mu, mv]\n",
    "#         add_unit = ['kilograms per ', '']\n",
    "#         not_tall()\n",
    "    \n",
    "    \n",
    "#         tight_layout()\n",
    "#         gcf().set_size_inches(14,6)\n",
    "#         savefig('_saved/_plots/manns_{}/gauge_{}-measure_{}.png'.format(manns, gauge_name, measure))\n",
    "#         show()"
   ]
  },
  {
   "cell_type": "code",
   "execution_count": null,
   "metadata": {},
   "outputs": [],
   "source": [
    "# from PIL import Image\n",
    "# from distutils.dir_util import copy_tree\n",
    "# if path.isdir('_saved') == False:\n",
    "#     mkdir('_saved')\n",
    "# def stitch_save_anim(choose_manns, anim_manns, exno = 1, figno = 0):\n",
    "#     system(\"mkdir _plots\")\n",
    "    \n",
    "#     if exno == 1:\n",
    "#         frames = 5\n",
    "#         extra = ''\n",
    "#     elif exno == 2:\n",
    "#         frames = 19\n",
    "#         extra = 0\n",
    "#     else:\n",
    "#         print (\"Error : Enter the exercise you are running, either 1, or 2\")\n",
    "        \n",
    "#     for a in range(exno - 1 ,frames + 1):\n",
    "#         im = Image.open('_plots_{}/frame{:04d}fig{}.png'.format(anim_manns[0],a, figno))\n",
    "#         im_alt = Image.open('_plots_{}/frame{:04d}fig{}.png'.format(anim_manns[1], a, figno))\n",
    "#         dst = Image.new('RGB', (im.width + im_alt.width, im.height))\n",
    "#         dst.paste(im, (0, 0))\n",
    "#         dst.paste(im_alt, (im.width, 0))\n",
    "#         dst.save('_plots/frame{:04d}fig{}.png'.format(a, figno))\n",
    "#         source = '_plots/'\n",
    "#         dest = '_saved/mann_{}_{}-ex{}-fig{}'.format(choose_manns[anim_manns[0]]\\\n",
    "#                                                      ,choose_manns[anim_manns[1]],1,0)\n",
    "#         copy_tree(source, dest)\n",
    "        \n",
    "# #         animation_tools.animate_from_plotdir('_plots', figno)\n",
    "# #     print('\\nMannings n = {} on left animation, and n = {} on right '\\\n",
    "# #           'animation'.format(choose_manns[anim_manns[0]], choose_manns[anim_manns[1]]))\n",
    "# #     return show_anim(anim)\n",
    "                  \n",
    "# for j in range (3):\n",
    "#     for k in range (amount_manns):\n",
    "#         mod = importlib.import_module(\"setrun_{}\".format(k+1))\n",
    "#         rundata = mod.setrun()\n",
    "#         # Variables to change\n",
    "#         #vvvvvvvvvvvvvvvvvvvvvvvvvvvvvvvvvvvvvvvv\n",
    "#         # Change Mannings\n",
    "#         rundata.geo_data.manning_coefficient = manns[k]\n",
    "#         # Change output times:\n",
    "#         if j == 2:\n",
    "#             rundata.clawdata.output_style = 2 #This is the difference from ex1 to ex2 in the animation\n",
    "#             rundata.clawdata.output_times = linspace(3.5,8,19) * 3600.\n",
    "#             # Change gauge location:\n",
    "#             from clawpack.amrclaw.data import GaugeData\n",
    "#             rundata.replace_data(\"gaugedata\", GaugeData())  # clear old gauge data\n",
    "#             rundata.gaugedata.gauges = []   # empty list\n",
    "#             rundata.gaugedata.gauges.append([32412, -86.392, -17.975, 0., 1.e10]) # original gauge\n",
    "#             rundata.gaugedata.gauges.append([123, -77.3, -12.3, 3.5*3600, 1.e10]) # relocated gauge\n",
    "#         #^^^^^^^^^^^^^^^^^^^^^^^^^^^^^^^^^^^^^^^^\n",
    "#         compiler(k, amount_manns)\n",
    "#     if j < 2:\n",
    "#         stitch_save_anim(choose_manns, anim_manns,1,j)\n",
    "#     else:\n",
    "#         stitch_save_anim(choose_manns, anim_manns,2,1)"
   ]
  }
 ],
 "metadata": {
  "kernelspec": {
   "display_name": "Python 3",
   "language": "python",
   "name": "python3"
  },
  "language_info": {
   "codemirror_mode": {
    "name": "ipython",
    "version": 3
   },
   "file_extension": ".py",
   "mimetype": "text/x-python",
   "name": "python",
   "nbconvert_exporter": "python",
   "pygments_lexer": "ipython3",
   "version": "3.8.5"
  },
  "toc": {
   "base_numbering": 1,
   "nav_menu": {
    "height": "220.667px",
    "width": "348px"
   },
   "number_sections": true,
   "sideBar": true,
   "skip_h1_title": false,
   "title_cell": "Table of Contents",
   "title_sidebar": "Contents",
   "toc_cell": false,
   "toc_position": {
    "height": "calc(100% - 180px)",
    "left": "10px",
    "top": "150px",
    "width": "256px"
   },
   "toc_section_display": true,
   "toc_window_display": true
  },
  "toc-autonumbering": true,
  "toc-showcode": false,
  "toc-showmarkdowntxt": false,
  "toc-showtags": false,
  "varInspector": {
   "cols": {
    "lenName": 16,
    "lenType": 16,
    "lenVar": 40
   },
   "kernels_config": {
    "python": {
     "delete_cmd_postfix": "",
     "delete_cmd_prefix": "del ",
     "library": "var_list.py",
     "varRefreshCmd": "print(var_dic_list())"
    },
    "r": {
     "delete_cmd_postfix": ") ",
     "delete_cmd_prefix": "rm(",
     "library": "var_list.r",
     "varRefreshCmd": "cat(var_dic_list()) "
    }
   },
   "oldHeight": 122.84966599999998,
   "position": {
    "height": "40px",
    "left": "909px",
    "right": "20px",
    "top": "120px",
    "width": "350px"
   },
   "types_to_exclude": [
    "module",
    "function",
    "builtin_function_or_method",
    "instance",
    "_Feature"
   ],
   "varInspector_section_display": "none",
   "window_display": true
  }
 },
 "nbformat": 4,
 "nbformat_minor": 4
}
