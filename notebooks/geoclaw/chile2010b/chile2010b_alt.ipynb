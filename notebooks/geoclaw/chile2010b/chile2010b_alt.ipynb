{
 "cells": [
  {
   "cell_type": "markdown",
   "metadata": {},
   "source": [
    "## Notes"
   ]
  },
  {
   "cell_type": "code",
   "execution_count": null,
   "metadata": {},
   "outputs": [],
   "source": [
    "#vvvvvvvvvvvvvvvvvvvvvvvvvvvvvvvvvvvvvvvvvvvvvvvvvvvvvvvvvvvvvvvvvvvvvvvvvvvvvvvvvvvvvvvvvvv\n",
    "# These sections are encouraged to be altered! (Of course, you can change all of the code!)\n",
    "#^^^^^^^^^^^^^^^^^^^^^^^^^^^^^^^^^^^^^^^^^^^^^^^^^^^^^^^^^^^^^^^^^^^^^^^^^^^^^^^^^^^^^^^^^^^"
   ]
  },
  {
   "cell_type": "markdown",
   "metadata": {},
   "source": [
    "exno and figno are the excercise number and figure number, each of which can be viewed in the original version of this file (chile2010b.ipynb)"
   ]
  },
  {
   "cell_type": "markdown",
   "metadata": {},
   "source": [
    "This plots in this file do not currently appear to show velocity. The same incorrect values can be found when running the orgignal version of this file."
   ]
  },
  {
   "cell_type": "markdown",
   "metadata": {},
   "source": [
    "## Notebook setup"
   ]
  },
  {
   "cell_type": "code",
   "execution_count": null,
   "metadata": {},
   "outputs": [],
   "source": [
    "%pylab inline"
   ]
  },
  {
   "cell_type": "code",
   "execution_count": null,
   "metadata": {},
   "outputs": [],
   "source": [
    "from clawpack.clawutil import nbtools\n",
    "from clawpack.visclaw import animation_tools\n",
    "from IPython.display import HTML\n",
    "from PIL import Image\n",
    "from os import path, mkdir, remove\n",
    "from shutil import rmtree, copyfile\n",
    "from glob import glob\n",
    "from distutils.dir_util import copy_tree"
   ]
  },
  {
   "cell_type": "code",
   "execution_count": null,
   "metadata": {},
   "outputs": [],
   "source": [
    "nbtools.make_exe(new=True,verbose=False)"
   ]
  },
  {
   "cell_type": "markdown",
   "metadata": {},
   "source": [
    "Check save path"
   ]
  },
  {
   "cell_type": "code",
   "execution_count": null,
   "metadata": {},
   "outputs": [],
   "source": [
    "if path.isdir('_saved') == False:\n",
    "    mkdir('_saved')\n",
    "elif path.isdir('_saved/_plots') == False:\n",
    "    mkdir('_saved/_plots')\n",
    "elif path.isdir('_saved/_anim') == False:\n",
    "    mkdir('_saved/_anim')"
   ]
  },
  {
   "cell_type": "markdown",
   "metadata": {},
   "source": [
    "### Functions"
   ]
  },
  {
   "cell_type": "markdown",
   "metadata": {},
   "source": [
    "Function to display animation"
   ]
  },
  {
   "cell_type": "code",
   "execution_count": null,
   "metadata": {},
   "outputs": [],
   "source": [
    "def show_anim(anim, form = 5):\n",
    "    if form == 5:\n",
    "        html_version = HTML(anim.to_html5_video())\n",
    "    elif form == 'js':\n",
    "        html_version = HTML(anim.to_jshtml())\n",
    "    else:\n",
    "        print(\"animation type not recognised, defaulting to HTML5 video\")\n",
    "\n",
    "    return html_version"
   ]
  },
  {
   "cell_type": "markdown",
   "metadata": {},
   "source": [
    "Function to initiate changes to be written to the *.data files"
   ]
  },
  {
   "cell_type": "code",
   "execution_count": null,
   "metadata": {
    "scrolled": true
   },
   "outputs": [],
   "source": [
    "def init_comp(exno, anim123 = False, plots = False):\n",
    "    if plots == True:\n",
    "        comp_manns = range(1, amount_manns + 1)\n",
    "    # If user is not going to plot curves, only 2 manning's values are neccessary to be compiled\n",
    "    elif plots == False:\n",
    "#         comp_manns = [number - 1 for number in anim_manns]\n",
    "        comp_manns = anim_manns\n",
    "     \n",
    "    for element in comp_manns:\n",
    "        mod = importlib.import_module(\"setrun_{}\".format(element))\n",
    "        rundata = mod.setrun()\n",
    "        # Changes to the original setrun.py\n",
    "        #---------------------------------------\n",
    "        # Change Mannings\n",
    "        rundata.geo_data.manning_coefficient = manns[element - 1]\n",
    "        # Change output times:\n",
    "        rundata.clawdata.output_style = exno #This is the difference from ex1 to ex2 in the animation\n",
    "        rundata.clawdata.output_times = linspace(3.5,8,19) * 3600.\n",
    "            # Change gauge location:\n",
    "        from clawpack.amrclaw.data import GaugeData\n",
    "        rundata.replace_data(\"gaugedata\", GaugeData())  # clear old gauge data\n",
    "        rundata.gaugedata.gauges = []   # empty list\n",
    "\n",
    "        rundata.gaugedata.gauges.append([32412, -86.392, -17.975, 0., 1.e10]) # original gauge\n",
    "        rundata.gaugedata.gauges.append([123, -77.3, -12.3, 3.5*3600, 1.e10]) # relocated gauge\n",
    "        if anim123 == False:\n",
    "            for j in range(len(dict_loc)):\n",
    "                rundata.gaugedata.gauges.append([j, long[j], lat[j], 0., 1.e10]) # not currently close to epicentre gauge\n",
    "        #---------------------------------------\n",
    "        compiler(rundata, element, comp_manns)"
   ]
  },
  {
   "cell_type": "markdown",
   "metadata": {},
   "source": [
    "Function to write (any changes made by the user to) \\*.data files, and then run the code from these files to create fortran data and images to be used in animation. "
   ]
  },
  {
   "cell_type": "code",
   "execution_count": null,
   "metadata": {},
   "outputs": [],
   "source": [
    "def compiler(rundata, element, comp_manns, out = False):\n",
    "    # create *.data files from parameters in setrun.py\n",
    "    rundata.write()\n",
    "    # Run the code from the *.data files\n",
    "    nbtools.make_output_and_plots(label=\"_{}\".format(element), verbose = out)\n",
    "    print(\"{:.0%} complete\".format((comp_manns.index(element) + 1)/(len(comp_manns))))"
   ]
  },
  {
   "cell_type": "markdown",
   "metadata": {},
   "source": [
    "Function to concatenate frames to be used in animation, then creating the user-facing animation. "
   ]
  },
  {
   "cell_type": "code",
   "execution_count": null,
   "metadata": {},
   "outputs": [],
   "source": [
    "def stitch_anim(anim_manns, amount_manns, choose_manns, exno = 1, figno = 0, form = 5):\n",
    "\n",
    "    old_frames = glob('_plots/*')\n",
    "    for f in old_frames:\n",
    "        remove(f)\n",
    "        \n",
    "    if exno == 1:\n",
    "        frames = 5\n",
    "        extra = ''\n",
    "    elif exno == 2:\n",
    "        frames = 19\n",
    "        extra = 0\n",
    "    else:\n",
    "        print (\"Error : Enter the exercise you are running, either 1, or 2\")\n",
    "        \n",
    "    for a in range(exno - 1 ,frames + 1):\n",
    "        im = Image.open('_plots_{}/frame{:04d}fig{}.png'.format(anim_manns[0],a, figno))\n",
    "        im_alt = Image.open('_plots_{}/frame{:04d}fig{}.png'.format(anim_manns[1], a, figno))\n",
    "        dst = Image.new('RGB', (im.width + im_alt.width, im.height))\n",
    "        dst.paste(im, (0, 0))\n",
    "        dst.paste(im_alt, (im.width, 0))\n",
    "        dst.save('_plots/frame{:04d}fig{}.png'.format(a, figno))\n",
    "        \n",
    "\n",
    "    anim = animation_tools.animate_from_plotdir('_plots', figno)\n",
    "    \n",
    "    if path.isdir(\"_saved/_anim/ex_{}-fig_{}-manns_{}\".format(exno, figno, anim_manns)) == False:\n",
    "        mkdir(\"_saved/_anim/ex_{}-fig_{}-manns_{}\".format(exno, figno, anim_manns))\n",
    "        copy_tree(\"_plots\", \"_saved/_anim/ex_{}-fig_{}-manns_{}\".format(exno, figno, anim_manns))\n",
    "\n",
    "    print('\\nMannings n = {} on left animation, and n = {} on right '\\\n",
    "          'animation'.format(choose_manns[anim_manns[0]], choose_manns[anim_manns[1]]))\n",
    "    \n",
    "    return show_anim(anim, form)"
   ]
  },
  {
   "cell_type": "markdown",
   "metadata": {},
   "source": [
    "Clear old data files and diretories"
   ]
  },
  {
   "cell_type": "code",
   "execution_count": null,
   "metadata": {},
   "outputs": [],
   "source": [
    "for k in range(1,11):\n",
    "    try:\n",
    "        remove('setrun_{}.py'.format(k))\n",
    "        remove('plot_output_{}.txt'.format(k))\n",
    "        remove('run_output_{}.txt'.format(k))\n",
    "        rmtree('_plots_{}'.format(k))\n",
    "        rmtree('_output_{}'.format(k))\n",
    "    except Exception:\n",
    "        pass"
   ]
  },
  {
   "cell_type": "markdown",
   "metadata": {},
   "source": [
    "## Edit mannings values"
   ]
  },
  {
   "cell_type": "markdown",
   "metadata": {},
   "source": [
    "Note : All manning values are shown in their absolute value (the program does not display negative values any differently from positive ones)"
   ]
  },
  {
   "cell_type": "code",
   "execution_count": null,
   "metadata": {},
   "outputs": [],
   "source": [
    "# Custom mannings values\n",
    "#vvvvvvvvvvvvvvvvvvvvvvvvvvvvvvvvvvvvvvvvv\n",
    "geoclaw_tsunami = 0.025\n",
    "yanigasawa_koshimura_2009_mangrove = 0.04\n",
    "test = 10\n",
    "#^^^^^^^^^^^^^^^^^^^^^^^^^^^^^^^^^^^^^^^^^"
   ]
  },
  {
   "cell_type": "code",
   "execution_count": null,
   "metadata": {},
   "outputs": [],
   "source": [
    "choose_manns = {}\n",
    "\n",
    "# Choose purpose of current data complation\n",
    "#vvvvvvvvvvvvvvvvvvvvvvvvvvvvvvvvvvvvvvvv\n",
    "plot_family = False\n",
    "#^^^^^^^^^^^^^^^^^^^^^^^^^^^^^^^^^^^^^^^^\n",
    " \n",
    "if plot_family == True:\n",
    "    # Plot family of curves around a specified middle mannings value. \n",
    "    # 10 curves may take from 5-10 minutes to plot dependent on your machine.\n",
    "    # Please choose no more than 10, as I haven't written more than 10 individual colours for the curves.\n",
    "    #vvvvvvvvvvvvvvvvvvvvvvvvvvvvvvvvvvvvvvvv\n",
    "    amount_manns = 10\n",
    "    mid_mann = 0.5\n",
    "    space_manns = 0.1\n",
    "    #^^^^^^^^^^^^^^^^^^^^^^^^^^^^^^^^^^^^^^^^\n",
    "    manns = [None] * amount_manns\n",
    "\n",
    "        \n",
    "elif plot_family == False: \n",
    "    #vvvvvvvvvvvvvvvvvvvvvvvvvvvvvvvvvvvvvvvv\n",
    "    manns = [geoclaw_tsunami, yanigasawa_koshimura_2009_mangrove]\n",
    "    #^^^^^^^^^^^^^^^^^^^^^^^^^^^^^^^^^^^^^^^^\n",
    "    amount_manns = len(manns)\n",
    "    \n",
    "for k in range (amount_manns):\n",
    "    if plot_family == True:\n",
    "        if amount_manns%2 == 0:\n",
    "            manns[k] = abs(mid_mann + (k + 1 - (amount_manns)/2) * space_manns)\n",
    "        else:\n",
    "            manns[k] = abs(mid_mann + (k + 1 - (amount_manns + 1) /2) * space_manns)\n",
    "            \n",
    "    choose_manns[k+1] = manns[k] \n",
    "    \n",
    "    copyfile(\"setrun.py\", \"setrun_{}.py\".format(k + 1))\n",
    "\n",
    "anim_manns = [None] * 2\n",
    "if len(choose_manns) > 2:\n",
    "    anim_manns[0] = int(input('Choose (1-{}) the first mannings values to'\\\n",
    "                          ' compare via animation: {}\\n'.format(amount_manns, choose_manns)))\n",
    "    anim_manns[1] = int(input('Choose (1-{}) the second mannings values to'\\\n",
    "                          ' compare via animation: {}\\n'.format(amount_manns, choose_manns)))\n",
    "else:\n",
    "    print('Mannings values to be compiled : {}\\n'.format(manns))\n",
    "    anim_manns[0] = 1\n",
    "    anim_manns[1] = 2"
   ]
  },
  {
   "cell_type": "markdown",
   "metadata": {},
   "source": [
    "## Edit location of gauges"
   ]
  },
  {
   "cell_type": "markdown",
   "metadata": {},
   "source": [
    "area wave resides in first hour [-85,-72,-38,-25]"
   ]
  },
  {
   "cell_type": "code",
   "execution_count": null,
   "metadata": {},
   "outputs": [],
   "source": [
    "# custom locations to plot gauges at\n",
    "#vvvvvvvvvvvvvvvvvvvvvvvvvvvvvvvvvvvvvvvvvvvvvvvvvvvvvvvvvvvvvvvvvvvvvvvvvvvvvvvvvvvvvvvv\n",
    "dict_loc = {'southwest of epicenter':[-76,-40],\n",
    "            'epicenter':[-72.733,-34.909], \n",
    "            'between Alejandro Selkirk Island and epicenter':[-77.039874, -34.917790]}\n",
    "#^^^^^^^^^^^^^^^^^^^^^^^^^^^^^^^^^^^^^^^^^^^^^^^^^^^^^^^^^^^^^^^^^^^^^^^^^^^^^^^^^^^^^^^^\n",
    "long = [None] * len(dict_loc)\n",
    "lat = [None] * len(dict_loc)\n",
    "\n",
    "for key in dict_loc:\n",
    "    k = list(dict_loc).index(key)\n",
    "    loc = dict_loc[key]\n",
    "    long[k] = loc[0]\n",
    "    lat[k] = loc[1]"
   ]
  },
  {
   "cell_type": "markdown",
   "metadata": {},
   "source": [
    "# Animations"
   ]
  },
  {
   "cell_type": "markdown",
   "metadata": {},
   "source": [
    "## North east section"
   ]
  },
  {
   "cell_type": "code",
   "execution_count": null,
   "metadata": {},
   "outputs": [],
   "source": [
    "exno = 2\n",
    "init_comp(exno, anim123 = True) \n",
    "\n",
    "figno = 1\n",
    "stitch_anim(anim_manns, amount_manns, choose_manns, exno, figno, 'js')"
   ]
  },
  {
   "cell_type": "markdown",
   "metadata": {},
   "source": [
    "## Full map"
   ]
  },
  {
   "cell_type": "markdown",
   "metadata": {},
   "source": [
    "You can use this animation to check your gauges are positioned correctly. Custom gauge numbers correspond to their position in the dictionary above."
   ]
  },
  {
   "cell_type": "code",
   "execution_count": null,
   "metadata": {},
   "outputs": [],
   "source": [
    "exno = 1\n",
    "init_comp(exno)\n",
    "\n",
    "figno = 0\n",
    "stitch_anim(anim_manns, amount_manns, choose_manns, exno, figno, 'js')"
   ]
  },
  {
   "cell_type": "markdown",
   "metadata": {},
   "source": [
    "# Gauge plots"
   ]
  },
  {
   "cell_type": "markdown",
   "metadata": {},
   "source": [
    "Re run init_comp for excercise 2, but now with animation off and plots on."
   ]
  },
  {
   "cell_type": "code",
   "execution_count": null,
   "metadata": {},
   "outputs": [],
   "source": [
    "exno = 2\n",
    "\n",
    "if exno == 1:\n",
    "    raise Exception(\"You need to run exercise number 2 with all gauge plots\"\\\n",
    "                    \" compiled to view the plots correctly. Please run the\"\\\n",
    "                    \" cell above this error and then continue running the notebook\")\n",
    "\n",
    "init_comp(exno, plots = True)"
   ]
  },
  {
   "cell_type": "markdown",
   "metadata": {},
   "source": [
    "## Import gauge data"
   ]
  },
  {
   "cell_type": "code",
   "execution_count": null,
   "metadata": {
    "run_control": {
     "marked": false
    }
   },
   "outputs": [],
   "source": [
    "from setplot import setplot\n",
    "plotdata = setplot()\n",
    "# This is the name of the custom gauge you wish to plot.\n",
    "# You plot a different custom gauge without rerunning the notebook\\\n",
    "# again as long as it was in the custom dictionary on the first run of this notebook.\n",
    "#vvvvvvvvvvvvvvvvvvvvvvvvvvvvvvvvvvvvvvvvvvvvvvvvvvvvvvvvvvvvvvvvv\n",
    "custom_gauge_ID = 'between Alejandro Selkirk Island and epicenter' \n",
    "#^^^^^^^^^^^^^^^^^^^^^^^^^^^^^^^^^^^^^^^^^^^^^^^^^^^^^^^^^^^^^^^^^\n",
    "\n",
    "custom_gauge = list(dict_loc).index(custom_gauge_ID)\n",
    "    \n",
    "h777 = [None] * (amount_manns)\n",
    "u777 = [None] * (amount_manns)\n",
    "v777 = [None] * (amount_manns)\n",
    "t777 = [None] * (amount_manns)\n",
    "eta777 = [None] * (amount_manns)\n",
    "\n",
    "h123 = [None] * (amount_manns)\n",
    "u123 = [None] * (amount_manns)\n",
    "v123 = [None] * (amount_manns)\n",
    "t123 = [None] * (amount_manns)\n",
    "eta123 = [None] * (amount_manns)\n",
    "\n",
    "h32412 = [None] * (amount_manns)\n",
    "u32412 = [None] * (amount_manns)\n",
    "v32412 = [None] * (amount_manns)\n",
    "t32412 = [None] * (amount_manns)\n",
    "eta32412 = [None] * (amount_manns)\n",
    "\n",
    "\n",
    "for k in range(amount_manns):\n",
    "    plotdata.outdir = '_output_{}'.format(k + 1)\n",
    "    # get gauge 123 data\n",
    "    g123 = plotdata.getgauge(123)\n",
    "    t123[k] = g123.t / 3600.  # convert to hours\n",
    "    eta123[k] = g123.q[3,:]   # eta = h + B (depth plus bathymetry)\n",
    "    h123[k] = g123.q[0,:]       # water depth\n",
    "    u123[k] = g123.q[1,:] / h123[k]  # u = east-west velocity\n",
    "    v123[k] = g123.q[2,:] / h123[k]  # v = north-south velocity\n",
    "    \n",
    "    # get gauge 32412 data\n",
    "    g32412 = plotdata.getgauge(32412)\n",
    "    t32412[k] = g32412.t / 3600.  # convert to hours\n",
    "    eta32412[k] = g32412.q[3,:]   # eta = h + B (depth plus bathymetry)\n",
    "    h32412[k] = g32412.q[0,:]       # water depth\n",
    "    u32412[k] = g32412.q[1,:] / h32412[k]  # u = east-west velocity\n",
    "    v32412[k] = g32412.q[2,:] / h32412[k]  # v = north-south velocity\n",
    "    \n",
    "    # get custom gauge data\n",
    "    g777 = plotdata.getgauge(custom_gauge)\n",
    "    t777[k] = g777.t / 3600.  # convert to hours\n",
    "    eta777[k] = g777.q[3,:]   # eta = h + B (depth plus bathymetry)\n",
    "    h777[k] = g777.q[0,:]       # water depth\n",
    "    u777[k] = g777.q[1,:] / h777[k]  # u = east-west velocity\n",
    "    v777[k] = g777.q[2,:] / h777[k]  # v = north-south velocity\n",
    "\n",
    "colour = ['#fc0303', '#f59042', '#f5ce42', '#d7f542', \n",
    "          '#90f542', '#48f542', '#42f59c', '#42ddf5', \n",
    "          '#4272f5', '#8a42f5']"
   ]
  },
  {
   "cell_type": "code",
   "execution_count": null,
   "metadata": {},
   "outputs": [],
   "source": [
    "if path.isdir('_saved/_plots/manns_{}'.format(manns)) == False:\n",
    "    mkdir('_saved/_plots/manns_{}'.format(manns))"
   ]
  },
  {
   "cell_type": "markdown",
   "metadata": {},
   "source": [
    "## Gauge 123"
   ]
  },
  {
   "cell_type": "code",
   "execution_count": null,
   "metadata": {},
   "outputs": [],
   "source": [
    "gauge = 123"
   ]
  },
  {
   "cell_type": "markdown",
   "metadata": {},
   "source": [
    "### Velocity"
   ]
  },
  {
   "cell_type": "code",
   "execution_count": null,
   "metadata": {},
   "outputs": [],
   "source": [
    "measure = 'velocity'"
   ]
  },
  {
   "cell_type": "code",
   "execution_count": null,
   "metadata": {},
   "outputs": [],
   "source": [
    "subplot(1, 2, 1)\n",
    "grid()\n",
    "for k in range(amount_manns):\n",
    "    plot(t123[k],u123[k], color = colour[k], label=\"Manning's n = {:.3f}\".format(manns[k]))   \n",
    "xlabel('Hours since earthquake')\n",
    "ylabel('meters per second')\n",
    "title('east-west velocities at gauge 123')\n",
    "\n",
    "subplot(1, 2, 2)\n",
    "grid()\n",
    "for k in range(amount_manns):\n",
    "    plot(t123[k],v123[k], color = colour[k], label=\"Manning's n = {:.3f}\".format(manns[k]))   \n",
    "legend()\n",
    "title('north-south velocities at gauge 123')\n",
    "\n",
    "tight_layout()\n",
    "gcf().set_size_inches(14,6)\n",
    "savefig('_saved/_plots/manns_{}/gauge_{}-measure_{}.png'.format(manns, gauge, measure))\n",
    "\n",
    "show()"
   ]
  },
  {
   "cell_type": "markdown",
   "metadata": {},
   "source": [
    "### Height"
   ]
  },
  {
   "cell_type": "code",
   "execution_count": null,
   "metadata": {},
   "outputs": [],
   "source": [
    "measure = 'height'"
   ]
  },
  {
   "cell_type": "code",
   "execution_count": null,
   "metadata": {},
   "outputs": [],
   "source": [
    "grid()\n",
    "for k in range(amount_manns):\n",
    "    plot(t123[k],eta123[k], color = colour[k], label=\"Manning's n = {:.3f}\".format(manns[k]))\n",
    "legend()\n",
    "xlabel('Hours since earthquake')\n",
    "ylabel('meters')\n",
    "title('Sea surface elevation at gauge 123')\n",
    "\n",
    "gcf().set_size_inches(14,6)\n",
    "savefig('_saved/_plots/manns_{}/gauge_{}-measure_{}.png'.format(manns, gauge, measure))\n",
    "show()"
   ]
  },
  {
   "cell_type": "markdown",
   "metadata": {},
   "source": [
    "## Custom gauge"
   ]
  },
  {
   "cell_type": "markdown",
   "metadata": {},
   "source": [
    "### Velocity"
   ]
  },
  {
   "cell_type": "code",
   "execution_count": null,
   "metadata": {},
   "outputs": [],
   "source": [
    "measure = 'velocity'"
   ]
  },
  {
   "cell_type": "code",
   "execution_count": null,
   "metadata": {
    "run_control": {
     "marked": false
    }
   },
   "outputs": [],
   "source": [
    "subplot(1, 2, 1)\n",
    "grid()\n",
    "for k in range(amount_manns):\n",
    "    plot(t777[k],u777[k], color = colour[k], label=\"Manning's n = {:.3f}\".format(manns[k]))   \n",
    "xlabel('Hours since earthquake')\n",
    "ylabel('meters per second')\n",
    "title('east-west velocities at {}'.format(dict_loc[custom_gauge_ID]))\n",
    "\n",
    "subplot(1, 2, 2)\n",
    "grid()\n",
    "for k in range(amount_manns):\n",
    "    plot(t777[k],v777[k], color = colour[k], label=\"Manning's n = {:.3f}\".format(manns[k]))   \n",
    "legend()\n",
    "title('north-south velocities at {}'.format(dict_loc[custom_gauge_ID]))\n",
    "\n",
    "tight_layout()\n",
    "gcf().set_size_inches(14,6)\n",
    "savefig('_saved/_plots/manns_{}/loc_{}-measure_{}.png'.format(manns, custom_gauge_ID, measure))\n",
    "show()"
   ]
  },
  {
   "cell_type": "markdown",
   "metadata": {},
   "source": [
    "## Height"
   ]
  },
  {
   "cell_type": "code",
   "execution_count": null,
   "metadata": {},
   "outputs": [],
   "source": [
    "measure = 'height'"
   ]
  },
  {
   "cell_type": "code",
   "execution_count": null,
   "metadata": {},
   "outputs": [],
   "source": [
    "grid()\n",
    "for k in range(amount_manns):\n",
    "    plot(t777[k],eta777[k], color = colour[k], label=\"Manning's n = {:.3f}\".format(manns[k]))\n",
    "legend()\n",
    "xlabel('Hours since earthquake')\n",
    "ylabel('meters')\n",
    "title('Sea surface elevation at gauge {}'.format(dict_loc[custom_gauge_ID]))\n",
    "\n",
    "gcf().set_size_inches(14,6)\n",
    "savefig('_saved/_plots/manns_{}/loc_{}-measure_{}.png'.format(manns, custom_gauge_ID, measure))\n",
    "show()"
   ]
  },
  {
   "cell_type": "markdown",
   "metadata": {},
   "source": [
    "## Gauge 32412"
   ]
  },
  {
   "cell_type": "code",
   "execution_count": null,
   "metadata": {},
   "outputs": [],
   "source": [
    "gauge = 32412"
   ]
  },
  {
   "cell_type": "markdown",
   "metadata": {},
   "source": [
    "### Velocity"
   ]
  },
  {
   "cell_type": "code",
   "execution_count": null,
   "metadata": {},
   "outputs": [],
   "source": [
    "measure = 'velocity'"
   ]
  },
  {
   "cell_type": "code",
   "execution_count": null,
   "metadata": {
    "run_control": {
     "marked": false
    }
   },
   "outputs": [],
   "source": [
    "subplot(1, 2, 1)\n",
    "grid()\n",
    "for k in range(amount_manns):\n",
    "    plot(t32412[k],u32412[k], color = colour[k], label=\"Manning's n = {:.3f}\".format(manns[k]))   \n",
    "xlabel('Hours since earthquake')\n",
    "ylabel('meters per second')\n",
    "title('east-west velocities at gauge 32412')\n",
    "\n",
    "subplot(1, 2, 2)\n",
    "grid()\n",
    "for k in range(amount_manns):\n",
    "    plot(t32412[k],v32412[k], color = colour[k], label=\"Manning's n = {:.3f}\".format(manns[k]))   \n",
    "legend()\n",
    "title('north-south velocities at gauge 32412')\n",
    "\n",
    "tight_layout()\n",
    "gcf().set_size_inches(14,6)\n",
    "savefig('_saved/_plots/manns_{}/gauge_{}-measure_{}.png'.format(manns, gauge, measure))\n",
    "show()"
   ]
  },
  {
   "cell_type": "markdown",
   "metadata": {},
   "source": [
    "### Height (against real life data)"
   ]
  },
  {
   "cell_type": "code",
   "execution_count": null,
   "metadata": {},
   "outputs": [],
   "source": [
    "measure = 'height'"
   ]
  },
  {
   "cell_type": "code",
   "execution_count": null,
   "metadata": {},
   "outputs": [],
   "source": [
    "ax = gca()\n",
    " \n",
    "# ax.set_prop_element(color=colour) \n",
    "\n",
    "xmin, xmax, ymin, ymax = (3, 7, -0.20, 0.30)\n",
    "\n",
    "for k in range(amount_manns):\n",
    "    ax.plot(t32412[k],eta32412[k], color = colour[k], label=\"Manning's n = {:.3f}\".format(manns[k]))\n",
    "ax.plot(0,0,color='k', label=\"Real life data\")\n",
    "ax.legend()\n",
    "ax.set_xlim(xmin, xmax)\n",
    "ax.set_ylim(ymin, ymax)\n",
    "ax.set_xlabel('Hours since earthquake')\n",
    "ax.set_ylabel('Meters')\n",
    "ax.set_title('Sea surface elevation at gauge 32412')\n",
    "\n",
    "ax.set_zorder(2)\n",
    "ax.set_facecolor('none')\n",
    "\n",
    "ax_tw_x = ax.twinx()\n",
    "ax_tw_x.axis('off')\n",
    "ax2 = ax_tw_x.twiny()\n",
    "\n",
    "im = imread('gauge32412-actual-detide.png')\n",
    "ax2.imshow(im, extent=[xmin, xmax, ymin, ymax], aspect='auto')\n",
    "ax2.axis('off')\n",
    "\n",
    "gcf().set_size_inches(14,6)\n",
    "savefig('_saved/_plots/manns_{}/gauge_{}-measure_{}.png'.format(manns, gauge, measure))\n",
    "show()"
   ]
  },
  {
   "cell_type": "markdown",
   "metadata": {},
   "source": [
    "# TESTING AREA"
   ]
  },
  {
   "cell_type": "markdown",
   "metadata": {},
   "source": [
    "Notes :\n",
    "- Save plots and animations (can I use the anim. in the first function? like anim.save?)\n",
    "- Write figure legends\n",
    "- Use G123 data to test different values given in the paper for areas such as forests,\n",
    "    importance of mangrove trees was undervalued\n",
    "- colours need to have more distinction"
   ]
  },
  {
   "cell_type": "code",
   "execution_count": null,
   "metadata": {},
   "outputs": [],
   "source": [
    "# from PIL import Image\n",
    "# from distutils.dir_util import copy_tree\n",
    "# if path.isdir('_saved') == False:\n",
    "#     mkdir('_saved')\n",
    "# def stitch_save_anim(choose_manns, anim_manns, exno = 1, figno = 0):\n",
    "#     system(\"mkdir _plots\")\n",
    "    \n",
    "#     if exno == 1:\n",
    "#         frames = 5\n",
    "#         extra = ''\n",
    "#     elif exno == 2:\n",
    "#         frames = 19\n",
    "#         extra = 0\n",
    "#     else:\n",
    "#         print (\"Error : Enter the exercise you are running, either 1, or 2\")\n",
    "        \n",
    "#     for a in range(exno - 1 ,frames + 1):\n",
    "#         im = Image.open('_plots_{}/frame{:04d}fig{}.png'.format(anim_manns[0],a, figno))\n",
    "#         im_alt = Image.open('_plots_{}/frame{:04d}fig{}.png'.format(anim_manns[1], a, figno))\n",
    "#         dst = Image.new('RGB', (im.width + im_alt.width, im.height))\n",
    "#         dst.paste(im, (0, 0))\n",
    "#         dst.paste(im_alt, (im.width, 0))\n",
    "#         dst.save('_plots/frame{:04d}fig{}.png'.format(a, figno))\n",
    "#         source = '_plots/'\n",
    "#         dest = '_saved/mann_{}_{}-ex{}-fig{}'.format(choose_manns[anim_manns[0]]\\\n",
    "#                                                      ,choose_manns[anim_manns[1]],1,0)\n",
    "#         copy_tree(source, dest)\n",
    "        \n",
    "# #         animation_tools.animate_from_plotdir('_plots', figno)\n",
    "# #     print('\\nMannings n = {} on left animation, and n = {} on right '\\\n",
    "# #           'animation'.format(choose_manns[anim_manns[0]], choose_manns[anim_manns[1]]))\n",
    "# #     return show_anim(anim)\n",
    "                  \n",
    "# for j in range (3):\n",
    "#     for k in range (amount_manns):\n",
    "#         mod = importlib.import_module(\"setrun_{}\".format(k+1))\n",
    "#         rundata = mod.setrun()\n",
    "#         # Variables to change\n",
    "#         #vvvvvvvvvvvvvvvvvvvvvvvvvvvvvvvvvvvvvvvv\n",
    "#         # Change Mannings\n",
    "#         rundata.geo_data.manning_coefficient = manns[k]\n",
    "#         # Change output times:\n",
    "#         if j == 2:\n",
    "#             rundata.clawdata.output_style = 2 #This is the difference from ex1 to ex2 in the animation\n",
    "#             rundata.clawdata.output_times = linspace(3.5,8,19) * 3600.\n",
    "#             # Change gauge location:\n",
    "#             from clawpack.amrclaw.data import GaugeData\n",
    "#             rundata.replace_data(\"gaugedata\", GaugeData())  # clear old gauge data\n",
    "#             rundata.gaugedata.gauges = []   # empty list\n",
    "#             rundata.gaugedata.gauges.append([32412, -86.392, -17.975, 0., 1.e10]) # original gauge\n",
    "#             rundata.gaugedata.gauges.append([123, -77.3, -12.3, 3.5*3600, 1.e10]) # relocated gauge\n",
    "#         #^^^^^^^^^^^^^^^^^^^^^^^^^^^^^^^^^^^^^^^^\n",
    "#         compiler(k, amount_manns)\n",
    "#     if j < 2:\n",
    "#         stitch_save_anim(choose_manns, anim_manns,1,j)\n",
    "#     else:\n",
    "#         stitch_save_anim(choose_manns, anim_manns,2,1)"
   ]
  },
  {
   "cell_type": "code",
   "execution_count": null,
   "metadata": {},
   "outputs": [],
   "source": [
    "# tot_gauges = (len(dict_loc) + 2)\n",
    "\n",
    "# g = h = u = v = t = eta = [None] * tot_gauges\n",
    "\n",
    "# for j in range(tot_gauges): \n",
    "#     h[j] = u[j] = v[j] = t[j] = eta[j] = [None] * amount_manns\n",
    "    \n",
    "#     print(t[0][0])\n",
    "    \n",
    "#     for k in range(amount_manns):\n",
    "#         plotdata.outdir = '_output_{}'.format(k + 1)\n",
    "#         # get gauge 123 data\n",
    "# #         if j + 2 == tot_gauges:\n",
    "#         g[j] = plotdata.getgauge(123)\n",
    "# #         elif j + 1 == tot_gauges:\n",
    "# #             g[j] = plotdata.getgauge(32412)\n",
    "# #         else:\n",
    "# #             g[j] = j\n",
    "#         print(g[j].t/ 3600.)   \n",
    "        \n",
    "#         t[j][k] = g[j].t / 3600.  # convert to hours\n",
    "#         eta[j][k] = g[j].q[3,:]   # eta = h + B (depth plus bathymetry)\n",
    "#         h[j][k] = g[j].q[0,:]       # water depth\n",
    "#         u[j][k] = g[j].q[1,:] / h[j][k]  # u = east-west velocity\n",
    "#         v[j][k] = g[j].q[2,:] / h[j][k]  # v = north-south velocity"
   ]
  }
 ],
 "metadata": {
  "kernelspec": {
   "display_name": "Python 3",
   "language": "python",
   "name": "python3"
  },
  "language_info": {
   "codemirror_mode": {
    "name": "ipython",
    "version": 3
   },
   "file_extension": ".py",
   "mimetype": "text/x-python",
   "name": "python",
   "nbconvert_exporter": "python",
   "pygments_lexer": "ipython3",
   "version": "3.8.5"
  },
  "toc": {
   "base_numbering": 1,
   "nav_menu": {
    "height": "220.667px",
    "width": "348px"
   },
   "number_sections": true,
   "sideBar": true,
   "skip_h1_title": false,
   "title_cell": "Table of Contents",
   "title_sidebar": "Contents",
   "toc_cell": false,
   "toc_position": {
    "height": "calc(100% - 180px)",
    "left": "10px",
    "top": "150px",
    "width": "256px"
   },
   "toc_section_display": true,
   "toc_window_display": true
  },
  "toc-autonumbering": true,
  "toc-showcode": false,
  "toc-showmarkdowntxt": false,
  "toc-showtags": false,
  "varInspector": {
   "cols": {
    "lenName": 16,
    "lenType": 16,
    "lenVar": 40
   },
   "kernels_config": {
    "python": {
     "delete_cmd_postfix": "",
     "delete_cmd_prefix": "del ",
     "library": "var_list.py",
     "varRefreshCmd": "print(var_dic_list())"
    },
    "r": {
     "delete_cmd_postfix": ") ",
     "delete_cmd_prefix": "rm(",
     "library": "var_list.r",
     "varRefreshCmd": "cat(var_dic_list()) "
    }
   },
   "oldHeight": 122.84966599999998,
   "position": {
    "height": "40px",
    "left": "909px",
    "right": "20px",
    "top": "120px",
    "width": "350px"
   },
   "types_to_exclude": [
    "module",
    "function",
    "builtin_function_or_method",
    "instance",
    "_Feature"
   ],
   "varInspector_section_display": "none",
   "window_display": true
  }
 },
 "nbformat": 4,
 "nbformat_minor": 4
}
