{
 "cells": [
  {
   "cell_type": "markdown",
   "metadata": {},
   "source": [
    "## Notebook setup"
   ]
  },
  {
   "cell_type": "code",
   "execution_count": null,
   "metadata": {
    "scrolled": true
   },
   "outputs": [],
   "source": [
    "%pylab inline"
   ]
  },
  {
   "cell_type": "code",
   "execution_count": null,
   "metadata": {},
   "outputs": [],
   "source": [
    "from clawpack.clawutil import nbtools\n",
    "from clawpack.visclaw import animation_tools\n",
    "from IPython.display import HTML\n",
    "from distutils.dir_util import copy_tree\n",
    "import os # If you are not using a unix distribution, find the calls to 'os' in this document and replace them\\\n",
    "             # with your operating system's equivalent command"
   ]
  },
  {
   "cell_type": "code",
   "execution_count": null,
   "metadata": {},
   "outputs": [],
   "source": [
    "def show_anim(anim, form = 5):\n",
    "    if form == 5:\n",
    "        html_version = HTML(anim.to_html5_video())\n",
    "    elif form == 'js':\n",
    "        html_version = HTML(anim.to_jshtml())\n",
    "    else:\n",
    "        print(\"animation type not recognised, defaulting to HTML5 video\")\n",
    "\n",
    "    return html_version"
   ]
  },
  {
   "cell_type": "code",
   "execution_count": null,
   "metadata": {},
   "outputs": [],
   "source": [
    "nbtools.make_exe(new=True,verbose=False)"
   ]
  },
  {
   "cell_type": "code",
   "execution_count": null,
   "metadata": {},
   "outputs": [],
   "source": [
    "if os.path.isdir('_saved') == False:\n",
    "    os.mkdir('_saved')"
   ]
  },
  {
   "cell_type": "markdown",
   "metadata": {},
   "source": [
    "Function to write (any changes made by the user to) \\*.data files, and then run the code from these files to create fortran data and images to be used in animation. "
   ]
  },
  {
   "cell_type": "code",
   "execution_count": null,
   "metadata": {},
   "outputs": [],
   "source": [
    "def compiler(k, amount_manns, out = False):\n",
    "    # create *.data files from parameters in setrun.py\n",
    "    rundata.write()\n",
    "    # Run the code from the *.data files\n",
    "    outdir,plotdir = nbtools.make_output_and_plots(label=\"_{}\".format(k+1), verbose = out)\n",
    "    print(\"File {} out of {} compiled\".format(k + 1, amount_manns))\n",
    "    return plotdir"
   ]
  },
  {
   "cell_type": "markdown",
   "metadata": {},
   "source": [
    "Function to concatenate frames to be used in animation, then creating the user-facing animation. "
   ]
  },
  {
   "cell_type": "code",
   "execution_count": null,
   "metadata": {},
   "outputs": [],
   "source": [
    "from PIL import Image\n",
    "\n",
    "def stitch_anim(plot_manns, amount_manns, choose_manns, exno = 1, figno = 0, form = 5):\n",
    "    os.system(\"mkdir _plots\") # LinuxOS command : makes the directory '_plots' in CLAW/apps/notebooks/geoclaw/chile2010b\n",
    "    \n",
    "    if exno == 1:\n",
    "        frames = 5\n",
    "        extra = ''\n",
    "    elif exno == 2:\n",
    "        frames = 19\n",
    "        extra = 0\n",
    "    else:\n",
    "        print (\"Error : Enter the exercise you are running, either 1, or 2\")\n",
    "        \n",
    "    for a in range(exno - 1 ,frames + 1):\n",
    "        im = Image.open('_plots_{}/frame{:04d}fig{}.png'.format(plot_manns[0],a, figno))\n",
    "        im_alt = Image.open('_plots_{}/frame{:04d}fig{}.png'.format(plot_manns[1], a, figno))\n",
    "        dst = Image.new('RGB', (im.width + im_alt.width, im.height))\n",
    "        dst.paste(im, (0, 0))\n",
    "        dst.paste(im_alt, (im.width, 0))\n",
    "        dst.save('_plots/frame{:04d}fig{}.png'.format(a, figno))\n",
    "    anim = animation_tools.animate_from_plotdir('_plots', figno)\n",
    "    print('\\nMannings n = {} on left animation, and n = {} on right '\\\n",
    "          'animation'.format(choose_manns[plot_manns[0]], choose_manns[plot_manns[1]]))\n",
    "    return show_anim(anim, form)"
   ]
  },
  {
   "cell_type": "markdown",
   "metadata": {},
   "source": [
    "Function to run and save all animations"
   ]
  },
  {
   "cell_type": "markdown",
   "metadata": {},
   "source": [
    "# Get mannings"
   ]
  },
  {
   "cell_type": "code",
   "execution_count": null,
   "metadata": {},
   "outputs": [],
   "source": [
    "# Choose purpose of current data complation\n",
    "#vvvvvvvvvvvvvvvvvvvvvvvvvvvvvvvvvvvvvvvv\n",
    "purpose = 'plot#or animation or both'\n",
    "#^^^^^^^^^^^^^^^^^^^^^^^^^^^^^^^^^^^^^^^^\n",
    "if purpose == 'plot':\n",
    "    amount_manns = 2\n",
    "    #vvvvvvvvvvvvvvvvvvvvvvvvvvvvvvvvvvvvvvvv   \n",
    "    first_mann = 0.003\n",
    "    second_mann = 0.025\n",
    "    #^^^^^^^^^^^^^^^^^^^^^^^^^^^^^^^^^^^^^^^^\n",
    "    space_manns = abs(second_mann - first_mann)\n",
    "    mid_mann = (first_mann if first_mann > second_mann else second_mann)\n",
    "    \n",
    "else :\n",
    "    # plot family of curves around\n",
    "    #vvvvvvvvvvvvvvvvvvvvvvvvvvvvvvvvvvvvvvvv\n",
    "    mid_mann = 0.03\n",
    "    amount_manns = 10\n",
    "    space_manns = 0.025\n",
    "    #^^^^^^^^^^^^^^^^^^^^^^^^^^^^^^^^^^^^^^^^\n",
    "\n",
    "manns = [None] * amount_manns\n",
    "choose_manns = {}\n",
    "    \n",
    "\n",
    "for k in range (amount_manns):\n",
    "    if amount_manns%2 == 0:\n",
    "        manns[k] = abs(mid_mann + (k + 1 - (amount_manns)/2) * space_manns)\n",
    "    else:\n",
    "        manns[k] = abs(mid_mann + (k + 1 - (amount_manns + 1) /2) * space_manns)\n",
    "    choose_manns[k+1] = manns[k]\n",
    "\n",
    "for k in range (1, amount_manns + 1):\n",
    "    os.system(\"cp setrun.py setrun_{}.py\".format(k)) # LinuxOS command : copies 'setrun.py' and pastes it as renamed 'setrun_#'.py\n",
    "    \n",
    "print('Mannings values to be compiled : {}\\n\\n'.format(manns))\n",
    "\n",
    "plot_manns = [None] * 2\n",
    "if len(choose_manns) > 2:\n",
    "    plot_manns[0] = int(input('Choose (1-{}) the first mannings values to'\\\n",
    "                          ' compare via animation: {}\\n'.format(amount_manns, choose_manns)))\n",
    "    plot_manns[1] = int(input('Choose (1-{}) the second mannings values to'\\\n",
    "                          ' compare via animation: {}\\n'.format(amount_manns, choose_manns)))\n",
    "else:\n",
    "    plot_manns[0] = 1\n",
    "    plot_manns[1] = 2"
   ]
  },
  {
   "cell_type": "markdown",
   "metadata": {},
   "source": [
    "## Change variables"
   ]
  },
  {
   "cell_type": "code",
   "execution_count": null,
   "metadata": {
    "scrolled": true
   },
   "outputs": [],
   "source": [
    "#vvvvvvvvvvvvvvvvvvvvvvvvvvvvvvvvvvvvvvvv\n",
    "exno = 2 # If 1, can plot figure 0 or 1. If 2, can plot graphs, and has detailed timestep\n",
    "#^^^^^^^^^^^^^^^^^^^^^^^^^^^^^^^^^^^^^^^^\n",
    "\n",
    "for k in range (amount_manns):\n",
    "    mod = importlib.import_module(\"setrun_{}\".format(k+1))\n",
    "    rundata = mod.setrun()\n",
    "    # Variables to change\n",
    "    #vvvvvvvvvvvvvvvvvvvvvvvvvvvvvvvvvvvvvvvv\n",
    "    # Change Mannings\n",
    "    rundata.geo_data.manning_coefficient = manns[k]\n",
    "    # Change output times:\n",
    "    rundata.clawdata.output_style = exno #This is the difference from ex1 to ex2 in the animation\n",
    "    rundata.clawdata.output_times = linspace(3.5,8,19) * 3600.\n",
    "    # Change gauge location:\n",
    "    from clawpack.amrclaw.data import GaugeData\n",
    "    rundata.replace_data(\"gaugedata\", GaugeData())  # clear old gauge data\n",
    "    rundata.gaugedata.gauges = []   # empty list\n",
    "    rundata.gaugedata.gauges.append([32412, -86.392, -17.975, 0., 1.e10]) # original gauge\n",
    "    rundata.gaugedata.gauges.append([123, -77.3, -12.3, 3.5*3600, 1.e10]) # relocated gauge\n",
    "    #^^^^^^^^^^^^^^^^^^^^^^^^^^^^^^^^^^^^^^^^\n",
    "    compiler(k, amount_manns)"
   ]
  },
  {
   "cell_type": "markdown",
   "metadata": {},
   "source": [
    "# Show animation"
   ]
  },
  {
   "cell_type": "code",
   "execution_count": null,
   "metadata": {},
   "outputs": [],
   "source": [
    "if exno == 1:\n",
    "    figno = 1 # Choose either 1 or 0\n",
    "else:\n",
    "    figno = 1 # Do not alter\n",
    "    \n",
    "stitch_anim(plot_manns, amount_manns, choose_manns, exno, figno, 'js')"
   ]
  },
  {
   "cell_type": "markdown",
   "metadata": {},
   "source": [
    "# Viewing gauges in Python\n",
    "\n",
    "The file `setplot.py` can be modified to plot different things at the gauges.  We don't do that here, and instead illustrate how to directly plot things in Python.  The file `plot_gauge123.py` in this directory also implements this. So if you type\n",
    "\n",
    "    python plot_gauge123.py\n",
    "    \n",
    "two png files should be produced with plots similar to those shown below.\n",
    "\n",
    "First we read the plot data from the most recent GeoClaw run:"
   ]
  },
  {
   "cell_type": "markdown",
   "metadata": {},
   "source": [
    "RUN Exercise number 2 first (you do not need to animate it though)  "
   ]
  },
  {
   "cell_type": "code",
   "execution_count": null,
   "metadata": {
    "run_control": {
     "marked": false
    }
   },
   "outputs": [],
   "source": [
    "from setplot import setplot\n",
    "plotdata = setplot()\n",
    "\n",
    "h123 = [None] * (amount_manns)\n",
    "u123 = [None] * (amount_manns)\n",
    "v123 = [None] * (amount_manns)\n",
    "t123 = [None] * (amount_manns)\n",
    "eta123 = [None] * (amount_manns)\n",
    "\n",
    "h32412 = [None] * (amount_manns)\n",
    "u32412 = [None] * (amount_manns)\n",
    "v32412 = [None] * (amount_manns)\n",
    "t32412 = [None] * (amount_manns)\n",
    "eta32412 = [None] * (amount_manns)\n",
    "\n",
    "\n",
    "for k in range(amount_manns):\n",
    "    plotdata.outdir = '_output_{}'.format(k + 1)\n",
    "    # get gauge 123 data\n",
    "    g123 = plotdata.getgauge(123)\n",
    "    t123[k] = g123.t / 3600.  # convert to hours\n",
    "    eta123[k] = g123.q[3,:]   # eta = h + B (depth plus bathymetry)\n",
    "    h123[k] = g123.q[0,:]       # water depth\n",
    "    u123[k] = g123.q[1,:] / h123[k]  # u = east-west velocity\n",
    "    v123[k] = g123.q[2,:] / h123[k]  # v = north-south velocity\n",
    "    # get gauge 32412 data\n",
    "    g32412 = plotdata.getgauge(32412)\n",
    "    t32412[k] = g32412.t / 3600.  # convert to hours\n",
    "    eta32412[k] = g32412.q[3,:]   # eta = h + B (depth plus bathymetry)\n",
    "    h32412[k] = g32412.q[0,:]       # water depth\n",
    "    u32412[k] = g32412.q[1,:] / h32412[k]  # u = east-west velocity\n",
    "    v32412[k] = g32412.q[2,:] / h32412[k]  # v = north-south velocity\n",
    "\n",
    "colour = ['#fc0303', '#f59042', '#f5ce42', '#d7f542', \n",
    "          '#90f542', '#48f542', '#42f59c', '#42ddf5', \n",
    "          '#4272f5', '#8a42f5']\n",
    "# for k in range(amount_manns):\n",
    "#     contrast = (k*3) % 10\n",
    "#     colour[k] = colour[contrast]"
   ]
  },
  {
   "cell_type": "markdown",
   "metadata": {},
   "source": [
    "## plot velocity data of gauge 123"
   ]
  },
  {
   "cell_type": "code",
   "execution_count": null,
   "metadata": {},
   "outputs": [],
   "source": [
    "subplot(1, 2, 1)\n",
    "grid()\n",
    "for k in range(amount_manns):\n",
    "    plot(t123[k],u123[k], color = colour[k], label=\"Manning's n = {:.3f}\".format(manns[k]))   \n",
    "xlabel('Hours since earthquake')\n",
    "ylabel('meters per second')\n",
    "title('east-west velocities at gauge 123')\n",
    "\n",
    "subplot(1, 2, 2)\n",
    "grid()\n",
    "for k in range(amount_manns):\n",
    "    plot(t123[k],v123[k], color = colour[k], label=\"Manning's n = {:.3f}\".format(manns[k]))   \n",
    "legend()\n",
    "title('north-south velocities at gauge 123')\n",
    "\n",
    "tight_layout()\n",
    "gcf().set_size_inches(14,6)\n",
    "show()"
   ]
  },
  {
   "cell_type": "markdown",
   "metadata": {},
   "source": [
    "## plot velocity of gauge 32412"
   ]
  },
  {
   "cell_type": "code",
   "execution_count": null,
   "metadata": {},
   "outputs": [],
   "source": [
    "subplot(1, 2, 1)\n",
    "grid()\n",
    "for k in range(amount_manns):\n",
    "    plot(t32412[k],u32412[k], color = colour[k], label=\"Manning's n = {:.3f}\".format(manns[k]))   \n",
    "xlabel('Hours since earthquake')\n",
    "ylabel('meters per second')\n",
    "title('east-west velocities at gauge 32412')\n",
    "\n",
    "subplot(1, 2, 2)\n",
    "grid()\n",
    "for k in range(amount_manns):\n",
    "    plot(t32412[k],v32412[k], color = colour[k], label=\"Manning's n = {:.3f}\".format(manns[k]))   \n",
    "legend()\n",
    "title('north-south velocities at gauge 32412')\n",
    "\n",
    "tight_layout()\n",
    "gcf().set_size_inches(14,6)\n",
    "show()"
   ]
  },
  {
   "cell_type": "markdown",
   "metadata": {},
   "source": [
    "## plot height of gauge 123"
   ]
  },
  {
   "cell_type": "code",
   "execution_count": null,
   "metadata": {},
   "outputs": [],
   "source": [
    "grid()\n",
    "for k in range(amount_manns):\n",
    "    plot(t123[k],eta123[k], color = colour[k], label=\"Manning's n = {:.3f}\".format(manns[k]))\n",
    "legend()\n",
    "xlim(3,8)\n",
    "xlabel('Hours since earthquake')\n",
    "ylabel('meters')\n",
    "title('Sea surface elevation at gauge 123')\n",
    "\n",
    "gcf().set_size_inches(14,6)\n",
    "show()"
   ]
  },
  {
   "cell_type": "markdown",
   "metadata": {},
   "source": [
    "## plot height of gauge 32412 against real life data"
   ]
  },
  {
   "cell_type": "code",
   "execution_count": null,
   "metadata": {},
   "outputs": [],
   "source": [
    "ax = gca()\n",
    " \n",
    "ax.set_prop_cycle(color=colour) \n",
    "\n",
    "xmin, xmax, ymin, ymax = (3, 7, -0.20, 0.30)\n",
    "\n",
    "for k in range(amount_manns):\n",
    "    ax.plot(t32412[k],eta32412[k], label=\"Manning's n = {:.3f}\".format(manns[k]))\n",
    "ax.plot(0,0,color='k', label=\"Real life data\")\n",
    "ax.legend()\n",
    "ax.set_xlim(xmin, xmax)\n",
    "ax.set_ylim(ymin, ymax)\n",
    "ax.set_xlabel('Hours since earthquake')\n",
    "ax.set_ylabel('Meters')\n",
    "ax.set_title('Sea surface elevation at gauge 32412')\n",
    "\n",
    "ax.set_zorder(2)\n",
    "ax.set_facecolor('none')\n",
    "\n",
    "ax_tw_x = ax.twinx()\n",
    "ax_tw_x.axis('off')\n",
    "ax2 = ax_tw_x.twiny()\n",
    "\n",
    "im = imread('gauge32412-actual-detide.png')\n",
    "ax2.imshow(im, extent=[xmin, xmax, ymin, ymax], aspect='auto')\n",
    "ax2.axis('off')\n",
    "gcf().set_size_inches(14,6)\n",
    "show()"
   ]
  },
  {
   "cell_type": "markdown",
   "metadata": {},
   "source": [
    "# TESTING AREA"
   ]
  },
  {
   "cell_type": "markdown",
   "metadata": {},
   "source": [
    "Notes :\n",
    "- Save plots and animations (can I use the anim. in the first function? like anim.save?)\n",
    "- Write figure legends\n",
    "- Use G123 data to test different values given in the paper for areas such as forests,\n",
    "    importance of mangrove trees was undervalued\n",
    "- colours need to have more distinction"
   ]
  },
  {
   "cell_type": "code",
   "execution_count": null,
   "metadata": {},
   "outputs": [],
   "source": [
    "# from PIL import Image\n",
    "\n",
    "# def stitch_save_anim(choose_manns, plot_manns, exno = 1, figno = 0):\n",
    "#     os.system(\"mkdir _plots\")\n",
    "    \n",
    "#     if exno == 1:\n",
    "#         frames = 5\n",
    "#         extra = ''\n",
    "#     elif exno == 2:\n",
    "#         frames = 19\n",
    "#         extra = 0\n",
    "#     else:\n",
    "#         print (\"Error : Enter the exercise you are running, either 1, or 2\")\n",
    "        \n",
    "#     for a in range(exno - 1 ,frames + 1):\n",
    "#         im = Image.open('_plots_{}/frame{:04d}fig{}.png'.format(plot_manns[0],a, figno))\n",
    "#         im_alt = Image.open('_plots_{}/frame{:04d}fig{}.png'.format(plot_manns[1], a, figno))\n",
    "#         dst = Image.new('RGB', (im.width + im_alt.width, im.height))\n",
    "#         dst.paste(im, (0, 0))\n",
    "#         dst.paste(im_alt, (im.width, 0))\n",
    "#         dst.save('_plots/frame{:04d}fig{}.png'.format(a, figno))\n",
    "#         source = '_plots/'\n",
    "#         dest = '_saved/mann_{}_{}-ex{}-fig{}'.format(choose_manns[plot_manns[0]]\\\n",
    "#                                                      ,choose_manns[plot_manns[1]],1,0)\n",
    "#         copy_tree(source, dest)\n",
    "        \n",
    "# #         animation_tools.animate_from_plotdir('_plots', figno)\n",
    "# #     print('\\nMannings n = {} on left animation, and n = {} on right '\\\n",
    "# #           'animation'.format(choose_manns[plot_manns[0]], choose_manns[plot_manns[1]]))\n",
    "# #     return show_anim(anim)\n",
    "                  \n",
    "# for j in range (3):\n",
    "#     for k in range (amount_manns):\n",
    "#         mod = importlib.import_module(\"setrun_{}\".format(k+1))\n",
    "#         rundata = mod.setrun()\n",
    "#         # Variables to change\n",
    "#         #vvvvvvvvvvvvvvvvvvvvvvvvvvvvvvvvvvvvvvvv\n",
    "#         # Change Mannings\n",
    "#         rundata.geo_data.manning_coefficient = manns[k]\n",
    "#         # Change output times:\n",
    "#         if j == 2:\n",
    "#             rundata.clawdata.output_style = 2 #This is the difference from ex1 to ex2 in the animation\n",
    "#             rundata.clawdata.output_times = linspace(3.5,8,19) * 3600.\n",
    "#             # Change gauge location:\n",
    "#             from clawpack.amrclaw.data import GaugeData\n",
    "#             rundata.replace_data(\"gaugedata\", GaugeData())  # clear old gauge data\n",
    "#             rundata.gaugedata.gauges = []   # empty list\n",
    "#             rundata.gaugedata.gauges.append([32412, -86.392, -17.975, 0., 1.e10]) # original gauge\n",
    "#             rundata.gaugedata.gauges.append([123, -77.3, -12.3, 3.5*3600, 1.e10]) # relocated gauge\n",
    "#         #^^^^^^^^^^^^^^^^^^^^^^^^^^^^^^^^^^^^^^^^\n",
    "#         compiler(k, amount_manns)\n",
    "#     if j < 2:\n",
    "#         stitch_save_anim(choose_manns, plot_manns,1,j)\n",
    "#     else:\n",
    "#         stitch_save_anim(choose_manns, plot_manns,2,1)"
   ]
  }
 ],
 "metadata": {
  "kernelspec": {
   "display_name": "Python 3",
   "language": "python",
   "name": "python3"
  },
  "language_info": {
   "codemirror_mode": {
    "name": "ipython",
    "version": 3
   },
   "file_extension": ".py",
   "mimetype": "text/x-python",
   "name": "python",
   "nbconvert_exporter": "python",
   "pygments_lexer": "ipython3",
   "version": "3.8.5"
  },
  "toc": {
   "base_numbering": 1,
   "nav_menu": {
    "height": "220.667px",
    "width": "348px"
   },
   "number_sections": true,
   "sideBar": true,
   "skip_h1_title": false,
   "title_cell": "Table of Contents",
   "title_sidebar": "Contents",
   "toc_cell": false,
   "toc_position": {
    "height": "calc(100% - 180px)",
    "left": "10px",
    "top": "150px",
    "width": "256px"
   },
   "toc_section_display": true,
   "toc_window_display": false
  },
  "varInspector": {
   "cols": {
    "lenName": 16,
    "lenType": 16,
    "lenVar": 40
   },
   "kernels_config": {
    "python": {
     "delete_cmd_postfix": "",
     "delete_cmd_prefix": "del ",
     "library": "var_list.py",
     "varRefreshCmd": "print(var_dic_list())"
    },
    "r": {
     "delete_cmd_postfix": ") ",
     "delete_cmd_prefix": "rm(",
     "library": "var_list.r",
     "varRefreshCmd": "cat(var_dic_list()) "
    }
   },
   "oldHeight": 122.84966599999998,
   "position": {
    "height": "40px",
    "left": "909px",
    "right": "20px",
    "top": "120px",
    "width": "350px"
   },
   "types_to_exclude": [
    "module",
    "function",
    "builtin_function_or_method",
    "instance",
    "_Feature"
   ],
   "varInspector_section_display": "none",
   "window_display": true
  }
 },
 "nbformat": 4,
 "nbformat_minor": 1
}
